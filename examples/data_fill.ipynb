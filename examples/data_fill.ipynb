{
 "cells": [
  {
   "cell_type": "code",
   "execution_count": 1,
   "id": "cfae283a-68a4-4673-9c3f-d40d3be7f3fd",
   "metadata": {},
   "outputs": [],
   "source": [
    "%load_ext autoreload\n",
    "%autoreload 2"
   ]
  },
  {
   "cell_type": "code",
   "execution_count": 2,
   "id": "df9443d7-bb8d-4b06-9ba0-c39838ff7274",
   "metadata": {},
   "outputs": [],
   "source": [
    "import matplotlib.pyplot as plt\n",
    "import pandas as pd\n",
    "\n",
    "from data_reconstruct import *\n",
    "from data_reconstruct.backend import *\n",
    "from data_reconstruct.examples import *\n",
    "from data_reconstruct.utilities import *"
   ]
  },
  {
   "cell_type": "code",
   "execution_count": 3,
   "id": "b2927419-51a9-442a-bb80-c8211884de98",
   "metadata": {},
   "outputs": [],
   "source": [
    "random_state = 42\n",
    "np.random.seed(random_state)"
   ]
  },
  {
   "cell_type": "markdown",
   "id": "b693c54a-e6bd-47a1-8531-7383212bb11e",
   "metadata": {},
   "source": [
    "# Load Data"
   ]
  },
  {
   "cell_type": "code",
   "execution_count": 10,
   "id": "cd048196-41d5-49b4-b547-110da033f763",
   "metadata": {},
   "outputs": [],
   "source": [
    "# Read\n",
    "mod1 = pd.read_excel('data/SAIPE.xls')\n",
    "mod1.columns = mod1.iloc[0]\n",
    "mod1 = mod1[1:]\n",
    "mod2 = pd.read_csv('data/public_150k_plus_210630.csv')\n",
    "mod1_tagged = process_saipe(mod1)\n",
    "mod2_tagged = process_ppp(mod2)\n",
    "mod1, mod1_cols, mod1_tags_cols = mod1_tagged\n",
    "mod2, mod2_cols, mod2_tags_cols = mod2_tagged\n",
    "\n",
    "# Merge\n",
    "mod1, mod2, annotations = merge_data(mod1_tagged, mod2_tagged, agg_by_tag=False)\n",
    "\n",
    "# Sample\n",
    "num_samples = min(mod1.shape[0], 300)\n",
    "mod1_sample = mod1.sample(num_samples, random_state=random_state)\n",
    "mod2_sample = mod2.sample(num_samples, random_state=random_state)\n",
    "annotations_sample = annotations.sample(num_samples, random_state=random_state);"
   ]
  },
  {
   "cell_type": "markdown",
   "id": "bea4985e-f9d2-4379-837c-b5dbe4128d32",
   "metadata": {},
   "source": [
    "# Predict Excluded Records"
   ]
  },
  {
   "cell_type": "code",
   "execution_count": 11,
   "id": "95e6b578-4ece-4b90-9f02-8c68c1b2d5ea",
   "metadata": {
    "tags": []
   },
   "outputs": [
    {
     "name": "stdout",
     "output_type": "stream",
     "text": [
      "use random seed: 666\n",
      "Shape of Raw data\n",
      "Dataset 0: (300, 19)\n",
      "Dataset 1: (300, 9)\n",
      "---------------------------------\n",
      "Find correspondence between Dataset 1 and Dataset 2\n",
      "use device: cpu\n",
      "epoch:[200/2000] err:0.8783 alpha:1.6090\n",
      "epoch:[400/2000] err:0.9162 alpha:1.7111\n",
      "epoch:[600/2000] err:0.9237 alpha:1.7723\n",
      "epoch:[800/2000] err:0.9192 alpha:1.8240\n",
      "epoch:[1000/2000] err:0.9044 alpha:1.8722\n",
      "epoch:[1200/2000] err:0.8634 alpha:1.9258\n",
      "epoch:[1400/2000] err:0.7868 alpha:1.9930\n",
      "epoch:[1600/2000] err:0.7319 alpha:2.0512\n",
      "epoch:[1800/2000] err:0.7068 alpha:2.0911\n",
      "epoch:[2000/2000] err:0.6941 alpha:2.1194\n",
      "Finished Matching!\n",
      "---------------------------------\n",
      "Begin finding the embedded space\n",
      "epoch:[20/100]: loss:1.011213, align_loss:0.169354\n",
      "epoch:[40/100]: loss:0.934025, align_loss:0.155885\n",
      "epoch:[60/100]: loss:0.944451, align_loss:0.153662\n",
      "epoch:[80/100]: loss:0.953258, align_loss:0.150489\n",
      "epoch:[100/100]: loss:0.905527, align_loss:0.149401\n",
      "Done\n",
      "---------------------------------\n",
      "unionCom Done!\n",
      "time: 9.304773807525635 seconds\n",
      "---------------------------------\n",
      "Mapping to last dataset...\n",
      "Epoch:  20    Loss:  0.00474\n",
      "Epoch:  40    Loss:  0.00353\n",
      "Epoch:  60    Loss:  0.00301\n",
      "Epoch:  80    Loss:  0.00271\n",
      "Epoch: 100    Loss:  0.00260\n",
      "Epoch: 120    Loss:  0.00253\n",
      "Epoch: 140    Loss:  0.00246\n",
      "Epoch: 160    Loss:  0.00230\n",
      "Epoch: 180    Loss:  0.00226\n",
      "Epoch: 200    Loss:  0.00233\n",
      "Validation Loss: 0.00226\n"
     ]
    }
   ],
   "source": [
    "predicted_feature = 3\n",
    "\n",
    "split_idx = int(.8 * len(mod2_sample))\n",
    "pipeline_output = run_pipeline(\n",
    "    mod1_sample.to_numpy(),\n",
    "    mod2_sample.to_numpy(),\n",
    "    train_idx=split_idx,\n",
    "    column_fill=True,\n",
    "    output_cols=[predicted_feature],\n",
    "    # std_function_and_inv=(lambda x: x**3, lambda x: x**(1/3)),\n",
    "    embedding_dim=50,\n",
    "    embedding_kwargs={\n",
    "        'project_mode': 'tsne',\n",
    "        'epoch_pd': 2000,\n",
    "        'log_pd': 200,\n",
    "        'epoch_DNN': 100,\n",
    "        'log_DNN': 20,\n",
    "    },\n",
    "    hidden_dim=50,\n",
    "    nn_kwargs={\n",
    "        'epochs': 200,\n",
    "        'log_epoch': 20,\n",
    "        # 'criterion': torch.nn.L1Loss(),\n",
    "        # 'optimizer': lambda x: torch.optim.AdamW(x, lr=1e-6),\n",
    "    },\n",
    ")"
   ]
  },
  {
   "cell_type": "markdown",
   "id": "8d2e8ede-26b5-43a0-a45e-c9ef489f3fe5",
   "metadata": {},
   "source": [
    "# Evaluate Results"
   ]
  },
  {
   "cell_type": "code",
   "execution_count": 12,
   "id": "f629eeca-d544-426d-a623-1ed69fde3b8c",
   "metadata": {},
   "outputs": [
    {
     "data": {
      "image/png": "[encoded data removed]",
      "text/plain": [
       "<Figure size 432x288 with 1 Axes>"
      ]
     },
     "metadata": {
      "needs_background": "light"
     },
     "output_type": "display_data"
    }
   ],
   "source": [
    "plot_example_results(mod2_sample.iloc[:, predicted_feature], pipeline_output, split_idx)"
   ]
  },
  {
   "cell_type": "code",
   "execution_count": null,
   "id": "ec740c9d-32ca-4fcf-b69d-8ecd39a9517c",
   "metadata": {},
   "outputs": [],
   "source": []
  }
 ],
 "metadata": {
  "kernelspec": {
   "display_name": "Python 3 (ipykernel)",
   "language": "python",
   "name": "python3"
  },
  "language_info": {
   "codemirror_mode": {
    "name": "ipython",
    "version": 3
   },
   "file_extension": ".py",
   "mimetype": "text/x-python",
   "name": "python",
   "nbconvert_exporter": "python",
   "pygments_lexer": "ipython3",
   "version": "3.9.5"
  }
 },
 "nbformat": 4,
 "nbformat_minor": 5
}
