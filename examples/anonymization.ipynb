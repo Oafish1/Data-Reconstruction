{
 "cells": [
  {
   "cell_type": "code",
   "execution_count": 1,
   "id": "cfae283a-68a4-4673-9c3f-d40d3be7f3fd",
   "metadata": {},
   "outputs": [],
   "source": [
    "%load_ext autoreload\n",
    "%autoreload 2"
   ]
  },
  {
   "cell_type": "code",
   "execution_count": 2,
   "id": "df9443d7-bb8d-4b06-9ba0-c39838ff7274",
   "metadata": {},
   "outputs": [],
   "source": [
    "import matplotlib.pyplot as plt\n",
    "import pandas as pd\n",
    "\n",
    "from data_reconstruct import *\n",
    "from data_reconstruct.backend import *\n",
    "from data_reconstruct.examples import *\n",
    "from data_reconstruct.utilities import *"
   ]
  },
  {
   "cell_type": "code",
   "execution_count": 3,
   "id": "b2927419-51a9-442a-bb80-c8211884de98",
   "metadata": {},
   "outputs": [],
   "source": [
    "random_state = 42\n",
    "np.random.seed(random_state)"
   ]
  },
  {
   "cell_type": "markdown",
   "id": "b693c54a-e6bd-47a1-8531-7383212bb11e",
   "metadata": {},
   "source": [
    "# Load Data"
   ]
  },
  {
   "cell_type": "code",
   "execution_count": 4,
   "id": "05e10529-43bc-4e92-9335-c3f86c7ce091",
   "metadata": {},
   "outputs": [],
   "source": [
    "# Read\n",
    "mod1 = pd.read_csv('data/decennial_2020_nov8GAN.csv')[1:]\n",
    "mod2 = pd.read_csv('data/public_150k_plus_210630.csv')\n",
    "mod1_tagged = process_decennial(mod1)\n",
    "mod2_tagged = process_ppp(mod2, extended=False)  # Limited dataset\n",
    "mod1, mod1_cols, mod1_tags_cols = mod1_tagged\n",
    "mod2, mod2_cols, mod2_tags_cols = mod2_tagged\n",
    "\n",
    "# Merge\n",
    "mod1, mod2, annotations = merge_data(mod1_tagged, mod2_tagged, agg_by_tag=True)\n",
    "\n",
    "# Sample\n",
    "num_samples = min(mod1.shape[0], 2000)\n",
    "mod1_sample = mod1.sample(num_samples, random_state=random_state)\n",
    "mod2_sample = mod2.sample(num_samples, random_state=random_state)\n",
    "annotations_sample = annotations.sample(num_samples, random_state=random_state);"
   ]
  },
  {
   "cell_type": "markdown",
   "id": "bea4985e-f9d2-4379-837c-b5dbe4128d32",
   "metadata": {},
   "source": [
    "# Generate Merged Anonymous Records"
   ]
  },
  {
   "cell_type": "code",
   "execution_count": 5,
   "id": "f1441b00-fb08-4807-b37f-4d41f2e7a329",
   "metadata": {
    "scrolled": true,
    "tags": []
   },
   "outputs": [
    {
     "name": "stdout",
     "output_type": "stream",
     "text": [
      "use random seed: 666\n",
      "Shape of Raw data\n",
      "Dataset 0: (729, 6)\n",
      "Dataset 1: (729, 4)\n",
      "---------------------------------\n",
      "Find correspondence between Dataset 1 and Dataset 2\n",
      "use device: cpu\n",
      "epoch:[200/1000] err:0.4023 alpha:1.1304\n",
      "epoch:[400/1000] err:0.1626 alpha:0.4578\n",
      "epoch:[600/1000] err:0.1996 alpha:0.5643\n",
      "epoch:[800/1000] err:0.2308 alpha:0.6561\n",
      "epoch:[1000/1000] err:0.2571 alpha:0.7368\n",
      "Finished Matching!\n",
      "---------------------------------\n",
      "Begin finding the embedded space\n",
      "epoch:[100/100]: loss:3.808526, align_loss:0.495337\n",
      "Done\n",
      "---------------------------------\n",
      "unionCom Done!\n",
      "time: 9.065698385238647 seconds\n"
     ]
    }
   ],
   "source": [
    "anonymized_data_5 = anonymize(\n",
    "    mod1_sample.to_numpy(),\n",
    "    mod2_sample.to_numpy(),\n",
    "    embedding_dim=5,\n",
    "    embedding_kwargs={\n",
    "        'project_mode': 'tsne',\n",
    "        'epoch_pd': 1000,\n",
    "        'log_pd': 200,\n",
    "        'epoch_DNN': 100,\n",
    "        'log_DNN': 100,\n",
    "    },\n",
    ")"
   ]
  },
  {
   "cell_type": "code",
   "execution_count": 6,
   "id": "95e6b578-4ece-4b90-9f02-8c68c1b2d5ea",
   "metadata": {
    "scrolled": true,
    "tags": []
   },
   "outputs": [
    {
     "name": "stdout",
     "output_type": "stream",
     "text": [
      "use random seed: 666\n",
      "Shape of Raw data\n",
      "Dataset 0: (729, 6)\n",
      "Dataset 1: (729, 4)\n",
      "---------------------------------\n",
      "Find correspondence between Dataset 1 and Dataset 2\n",
      "use device: cpu\n",
      "epoch:[200/1000] err:0.4023 alpha:1.1304\n",
      "epoch:[400/1000] err:0.1626 alpha:0.4578\n",
      "epoch:[600/1000] err:0.1996 alpha:0.5643\n",
      "epoch:[800/1000] err:0.2308 alpha:0.6561\n",
      "epoch:[1000/1000] err:0.2571 alpha:0.7368\n",
      "Finished Matching!\n",
      "---------------------------------\n",
      "Begin finding the embedded space\n",
      "epoch:[100/100]: loss:3.316516, align_loss:0.509335\n",
      "Done\n",
      "---------------------------------\n",
      "unionCom Done!\n",
      "time: 9.85813283920288 seconds\n"
     ]
    }
   ],
   "source": [
    "anonymized_data_10 = anonymize(\n",
    "    mod1_sample.to_numpy(),\n",
    "    mod2_sample.to_numpy(),\n",
    "    embedding_dim=10,\n",
    "    embedding_kwargs={\n",
    "        'project_mode': 'tsne',\n",
    "        'epoch_pd': 1000,\n",
    "        'log_pd': 200,\n",
    "        'epoch_DNN': 100,\n",
    "        'log_DNN': 100,\n",
    "    },\n",
    ")"
   ]
  },
  {
   "cell_type": "code",
   "execution_count": 7,
   "id": "5ba6b394-d7f1-4ff1-a762-3191301cad01",
   "metadata": {
    "scrolled": true
   },
   "outputs": [
    {
     "name": "stdout",
     "output_type": "stream",
     "text": [
      "use random seed: 666\n",
      "Shape of Raw data\n",
      "Dataset 0: (729, 6)\n",
      "Dataset 1: (729, 4)\n",
      "---------------------------------\n",
      "Find correspondence between Dataset 1 and Dataset 2\n",
      "use device: cpu\n",
      "epoch:[200/1000] err:0.4023 alpha:1.1304\n",
      "epoch:[400/1000] err:0.1626 alpha:0.4578\n",
      "epoch:[600/1000] err:0.1996 alpha:0.5643\n",
      "epoch:[800/1000] err:0.2308 alpha:0.6561\n",
      "epoch:[1000/1000] err:0.2571 alpha:0.7368\n",
      "Finished Matching!\n",
      "---------------------------------\n",
      "Begin finding the embedded space\n",
      "epoch:[100/100]: loss:2.416219, align_loss:0.297647\n",
      "Done\n",
      "---------------------------------\n",
      "unionCom Done!\n",
      "time: 13.785978078842163 seconds\n"
     ]
    }
   ],
   "source": [
    "anonymized_data_50 = anonymize(\n",
    "    mod1_sample.to_numpy(),\n",
    "    mod2_sample.to_numpy(),\n",
    "    embedding_dim=50,\n",
    "    embedding_kwargs={\n",
    "        'project_mode': 'tsne',\n",
    "        'epoch_pd': 1000,\n",
    "        'log_pd': 200,\n",
    "        'epoch_DNN': 100,\n",
    "        'log_DNN': 100,\n",
    "    },\n",
    ")"
   ]
  },
  {
   "cell_type": "markdown",
   "id": "8d2e8ede-26b5-43a0-a45e-c9ef489f3fe5",
   "metadata": {},
   "source": [
    "# Preview Results"
   ]
  },
  {
   "cell_type": "code",
   "execution_count": 8,
   "id": "f629eeca-d544-426d-a623-1ed69fde3b8c",
   "metadata": {},
   "outputs": [
    {
     "data": {
      "text/html": [
       "<div>\n",
       "<style scoped>\n",
       "    .dataframe tbody tr th:only-of-type {\n",
       "        vertical-align: middle;\n",
       "    }\n",
       "\n",
       "    .dataframe tbody tr th {\n",
       "        vertical-align: top;\n",
       "    }\n",
       "\n",
       "    .dataframe thead th {\n",
       "        text-align: right;\n",
       "    }\n",
       "</style>\n",
       "<table border=\"1\" class=\"dataframe\">\n",
       "  <thead>\n",
       "    <tr style=\"text-align: right;\">\n",
       "      <th></th>\n",
       "      <th>0</th>\n",
       "      <th>1</th>\n",
       "      <th>2</th>\n",
       "      <th>3</th>\n",
       "      <th>4</th>\n",
       "    </tr>\n",
       "    <tr>\n",
       "      <th>ProjectCountyName</th>\n",
       "      <th></th>\n",
       "      <th></th>\n",
       "      <th></th>\n",
       "      <th></th>\n",
       "      <th></th>\n",
       "    </tr>\n",
       "  </thead>\n",
       "  <tbody>\n",
       "    <tr>\n",
       "      <th>NESHOBA</th>\n",
       "      <td>-1.899713</td>\n",
       "      <td>-0.029810</td>\n",
       "      <td>-1.786216</td>\n",
       "      <td>-4.567956</td>\n",
       "      <td>-3.751472</td>\n",
       "    </tr>\n",
       "    <tr>\n",
       "      <th>CLEVELAND</th>\n",
       "      <td>1.821575</td>\n",
       "      <td>1.369006</td>\n",
       "      <td>-2.718911</td>\n",
       "      <td>1.095871</td>\n",
       "      <td>-1.578804</td>\n",
       "    </tr>\n",
       "    <tr>\n",
       "      <th>HUMBOLDT</th>\n",
       "      <td>0.706152</td>\n",
       "      <td>0.919597</td>\n",
       "      <td>-1.886202</td>\n",
       "      <td>0.286164</td>\n",
       "      <td>-1.194171</td>\n",
       "    </tr>\n",
       "    <tr>\n",
       "      <th>LAKE</th>\n",
       "      <td>0.188884</td>\n",
       "      <td>0.807551</td>\n",
       "      <td>-1.724733</td>\n",
       "      <td>-0.291709</td>\n",
       "      <td>-1.335002</td>\n",
       "    </tr>\n",
       "    <tr>\n",
       "      <th>PENOBSCOT</th>\n",
       "      <td>0.500918</td>\n",
       "      <td>-1.330341</td>\n",
       "      <td>0.221323</td>\n",
       "      <td>-1.367338</td>\n",
       "      <td>-0.115526</td>\n",
       "    </tr>\n",
       "    <tr>\n",
       "      <th>...</th>\n",
       "      <td>...</td>\n",
       "      <td>...</td>\n",
       "      <td>...</td>\n",
       "      <td>...</td>\n",
       "      <td>...</td>\n",
       "    </tr>\n",
       "    <tr>\n",
       "      <th>BRAZOS</th>\n",
       "      <td>-1.665899</td>\n",
       "      <td>1.008836</td>\n",
       "      <td>-2.457980</td>\n",
       "      <td>-3.222767</td>\n",
       "      <td>-3.590461</td>\n",
       "    </tr>\n",
       "    <tr>\n",
       "      <th>CASCADE</th>\n",
       "      <td>0.134557</td>\n",
       "      <td>0.381824</td>\n",
       "      <td>-1.013575</td>\n",
       "      <td>-0.079838</td>\n",
       "      <td>-0.538772</td>\n",
       "    </tr>\n",
       "    <tr>\n",
       "      <th>GUADALUPE</th>\n",
       "      <td>-2.099946</td>\n",
       "      <td>0.405944</td>\n",
       "      <td>-1.574889</td>\n",
       "      <td>-3.241779</td>\n",
       "      <td>-2.854525</td>\n",
       "    </tr>\n",
       "    <tr>\n",
       "      <th>MIDLAND</th>\n",
       "      <td>-1.999321</td>\n",
       "      <td>0.387630</td>\n",
       "      <td>-1.537886</td>\n",
       "      <td>-3.117912</td>\n",
       "      <td>-2.748792</td>\n",
       "    </tr>\n",
       "    <tr>\n",
       "      <th>CAROLINE</th>\n",
       "      <td>-0.643648</td>\n",
       "      <td>-0.028474</td>\n",
       "      <td>-1.892289</td>\n",
       "      <td>-3.326463</td>\n",
       "      <td>-3.211838</td>\n",
       "    </tr>\n",
       "  </tbody>\n",
       "</table>\n",
       "<p>729 rows × 5 columns</p>\n",
       "</div>"
      ],
      "text/plain": [
       "                          0         1         2         3         4\n",
       "ProjectCountyName                                                  \n",
       "NESHOBA           -1.899713 -0.029810 -1.786216 -4.567956 -3.751472\n",
       "CLEVELAND          1.821575  1.369006 -2.718911  1.095871 -1.578804\n",
       "HUMBOLDT           0.706152  0.919597 -1.886202  0.286164 -1.194171\n",
       "LAKE               0.188884  0.807551 -1.724733 -0.291709 -1.335002\n",
       "PENOBSCOT          0.500918 -1.330341  0.221323 -1.367338 -0.115526\n",
       "...                     ...       ...       ...       ...       ...\n",
       "BRAZOS            -1.665899  1.008836 -2.457980 -3.222767 -3.590461\n",
       "CASCADE            0.134557  0.381824 -1.013575 -0.079838 -0.538772\n",
       "GUADALUPE         -2.099946  0.405944 -1.574889 -3.241779 -2.854525\n",
       "MIDLAND           -1.999321  0.387630 -1.537886 -3.117912 -2.748792\n",
       "CAROLINE          -0.643648 -0.028474 -1.892289 -3.326463 -3.211838\n",
       "\n",
       "[729 rows x 5 columns]"
      ]
     },
     "execution_count": 8,
     "metadata": {},
     "output_type": "execute_result"
    }
   ],
   "source": [
    "pd.DataFrame(anonymized_data_5[0], index=annotations_sample.iloc[:, 0])"
   ]
  },
  {
   "cell_type": "markdown",
   "id": "878d4f96-bba0-426c-8604-1c0c112846fa",
   "metadata": {},
   "source": [
    "# Usability"
   ]
  },
  {
   "cell_type": "markdown",
   "id": "5a5e3f4d-93ce-40a7-8fc8-b2c4ef458a8d",
   "metadata": {},
   "source": [
    "## Arbitrary Statistic Prediction"
   ]
  },
  {
   "cell_type": "code",
   "execution_count": 9,
   "id": "cca2e98a-7b73-4726-8bb6-67b69fd79380",
   "metadata": {},
   "outputs": [],
   "source": [
    "target = np.sqrt(mod1_sample['totalpop_other'] * mod2_sample['HEALTH_CARE_PROCEED']).to_numpy().reshape((-1, 1))\n",
    "source_raw = pd.concat([mod1_sample, mod2_sample], axis=1).to_numpy().astype(np.float32)"
   ]
  },
  {
   "cell_type": "markdown",
   "id": "83b0e17a-f724-487d-b941-92713925318a",
   "metadata": {},
   "source": [
    "### Before Anonymization"
   ]
  },
  {
   "cell_type": "code",
   "execution_count": 10,
   "id": "7702aeb6-ab35-48b7-a5d0-25a4d71a1a0e",
   "metadata": {},
   "outputs": [
    {
     "name": "stdout",
     "output_type": "stream",
     "text": [
      "Epoch:  50    Loss:  0.00133\n"
     ]
    },
    {
     "data": {
      "image/png": "[encoded data removed]",
      "text/plain": [
       "<Figure size 432x288 with 1 Axes>"
      ]
     },
     "metadata": {
      "needs_background": "light"
     },
     "output_type": "display_data"
    }
   ],
   "source": [
    "prediction, split_idx = predict_from_data(source_raw, target, nn_kwargs={'epochs': 50})\n",
    "plot_example_results(target, prediction, split_idx=split_idx)"
   ]
  },
  {
   "cell_type": "markdown",
   "id": "56e384ba-5474-49dd-aef5-7b62e7cb0412",
   "metadata": {},
   "source": [
    "### After Anonymization"
   ]
  },
  {
   "cell_type": "code",
   "execution_count": 14,
   "id": "20ae39e5-e357-4fde-9520-ff6a83a9eb93",
   "metadata": {},
   "outputs": [
    {
     "name": "stdout",
     "output_type": "stream",
     "text": [
      "Epoch:  50    Loss:  0.00630\n",
      "Epoch:  50    Loss:  0.00458\n",
      "Epoch:  50    Loss:  0.00275\n"
     ]
    },
    {
     "data": {
      "image/png": "[encoded data removed]",
      "text/plain": [
       "<Figure size 1296x432 with 3 Axes>"
      ]
     },
     "metadata": {
      "needs_background": "light"
     },
     "output_type": "display_data"
    }
   ],
   "source": [
    "fig, axis = plt.subplots(figsize=(18, 6))\n",
    "ax = plt.subplot(1, 3, 1)\n",
    "plt.title('5 Anonymous Features')\n",
    "prediction, split_idx = predict_from_data(anonymized_data_5[0], target, nn_kwargs={'epochs': 50})\n",
    "plot_example_results(target, prediction, split_idx=split_idx, ax=ax)\n",
    "\n",
    "ax = plt.subplot(1, 3, 2)\n",
    "plt.title('10 Anonymous Features')\n",
    "prediction, split_idx = predict_from_data(anonymized_data_10[0], target, nn_kwargs={'epochs': 50})\n",
    "plot_example_results(target, prediction, split_idx=split_idx, ax=ax)\n",
    "\n",
    "ax = plt.subplot(1, 3, 3)\n",
    "plt.title('50 Anonymous Features')\n",
    "prediction, split_idx = predict_from_data(anonymized_data_50[0], target, nn_kwargs={'epochs': 50})\n",
    "plot_example_results(target, prediction, split_idx=split_idx, ax=ax)"
   ]
  }
 ],
 "metadata": {
  "kernelspec": {
   "display_name": "Python 3 (ipykernel)",
   "language": "python",
   "name": "python3"
  },
  "language_info": {
   "codemirror_mode": {
    "name": "ipython",
    "version": 3
   },
   "file_extension": ".py",
   "mimetype": "text/x-python",
   "name": "python",
   "nbconvert_exporter": "python",
   "pygments_lexer": "ipython3",
   "version": "3.9.5"
  }
 },
 "nbformat": 4,
 "nbformat_minor": 5
}
