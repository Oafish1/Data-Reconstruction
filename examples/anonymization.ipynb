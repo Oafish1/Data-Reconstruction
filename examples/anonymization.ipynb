{
 "cells": [
  {
   "cell_type": "code",
   "execution_count": 1,
   "id": "cfae283a-68a4-4673-9c3f-d40d3be7f3fd",
   "metadata": {},
   "outputs": [],
   "source": [
    "%load_ext autoreload\n",
    "%autoreload 2"
   ]
  },
  {
   "cell_type": "code",
   "execution_count": 2,
   "id": "df9443d7-bb8d-4b06-9ba0-c39838ff7274",
   "metadata": {},
   "outputs": [],
   "source": [
    "import matplotlib.pyplot as plt\n",
    "import pandas as pd\n",
    "\n",
    "from data_reconstruct import *\n",
    "from data_reconstruct.backend import *\n",
    "from data_reconstruct.examples import *\n",
    "from data_reconstruct.utilities import *"
   ]
  },
  {
   "cell_type": "code",
   "execution_count": 3,
   "id": "b2927419-51a9-442a-bb80-c8211884de98",
   "metadata": {},
   "outputs": [],
   "source": [
    "random_state = 42\n",
    "np.random.seed(random_state)"
   ]
  },
  {
   "cell_type": "markdown",
   "id": "b693c54a-e6bd-47a1-8531-7383212bb11e",
   "metadata": {},
   "source": [
    "# Load Data"
   ]
  },
  {
   "cell_type": "code",
   "execution_count": 4,
   "id": "05e10529-43bc-4e92-9335-c3f86c7ce091",
   "metadata": {},
   "outputs": [],
   "source": [
    "# Read\n",
    "mod1 = pd.read_csv('data/decennial_2020_nov8GAN.csv')[1:]\n",
    "mod2 = pd.read_csv('data/public_150k_plus_210630.csv')\n",
    "mod1_tagged = process_decennial(mod1)\n",
    "mod2_tagged = process_ppp(mod2, extended=False)  # Limited dataset\n",
    "mod1, mod1_cols, mod1_tags_cols = mod1_tagged\n",
    "mod2, mod2_cols, mod2_tags_cols = mod2_tagged\n",
    "\n",
    "# Merge\n",
    "mod1, mod2, annotations = merge_data(mod1_tagged, mod2_tagged, agg_by_tag=True)\n",
    "\n",
    "# Sample\n",
    "num_samples = min(mod1.shape[0], 2000)\n",
    "mod1_sample = mod1.sample(num_samples, random_state=random_state)\n",
    "mod2_sample = mod2.sample(num_samples, random_state=random_state)\n",
    "annotations_sample = annotations.sample(num_samples, random_state=random_state);"
   ]
  },
  {
   "cell_type": "markdown",
   "id": "bea4985e-f9d2-4379-837c-b5dbe4128d32",
   "metadata": {},
   "source": [
    "# Generate Merged Anonymous Records"
   ]
  },
  {
   "cell_type": "code",
   "execution_count": 5,
   "id": "f1441b00-fb08-4807-b37f-4d41f2e7a329",
   "metadata": {
    "scrolled": true,
    "tags": []
   },
   "outputs": [
    {
     "name": "stdout",
     "output_type": "stream",
     "text": [
      "use random seed: 666\n",
      "Shape of Raw data\n",
      "Dataset 0: (729, 6)\n",
      "Dataset 1: (729, 4)\n",
      "---------------------------------\n",
      "Find correspondence between Dataset 1 and Dataset 2\n",
      "use device: cpu\n",
      "epoch:[600/10000] err:0.1996 alpha:0.5643\n",
      "epoch:[1200/10000] err:0.2789 alpha:0.8077\n",
      "epoch:[1800/10000] err:0.3205 alpha:0.9726\n",
      "epoch:[2400/10000] err:0.3335 alpha:1.0901\n",
      "epoch:[3000/10000] err:0.3270 alpha:1.1843\n",
      "epoch:[3600/10000] err:0.3122 alpha:1.2610\n",
      "epoch:[4200/10000] err:0.3108 alpha:1.2654\n",
      "epoch:[4800/10000] err:0.3554 alpha:1.1933\n",
      "epoch:[5400/10000] err:0.3865 alpha:1.1167\n",
      "epoch:[6000/10000] err:0.3923 alpha:1.1147\n",
      "epoch:[6600/10000] err:0.3943 alpha:1.1177\n",
      "epoch:[7200/10000] err:0.3973 alpha:1.1266\n",
      "epoch:[7800/10000] err:0.3988 alpha:1.1302\n",
      "epoch:[8400/10000] err:0.3980 alpha:1.1277\n",
      "epoch:[9000/10000] err:0.3955 alpha:1.1205\n",
      "epoch:[9600/10000] err:0.3984 alpha:1.1286\n",
      "Finished Matching!\n",
      "---------------------------------\n",
      "Begin finding the embedded space\n",
      "epoch:[100/300]: loss:4.160594, align_loss:0.602903\n",
      "epoch:[200/300]: loss:3.834361, align_loss:0.632160\n",
      "epoch:[300/300]: loss:3.620746, align_loss:0.602040\n",
      "Done\n",
      "---------------------------------\n",
      "unionCom Done!\n",
      "time: 26.950446605682373 seconds\n"
     ]
    }
   ],
   "source": [
    "anonymized_data_5 = anonymize(\n",
    "    mod1_sample.to_numpy(),\n",
    "    mod2_sample.to_numpy(),\n",
    "    embedding_dim=5,\n",
    "    embedding_kwargs={\n",
    "        'project_mode': 'tsne',\n",
    "        'epoch_pd': 10000,\n",
    "        'log_pd': 600,\n",
    "        'epoch_DNN': 300,\n",
    "        'log_DNN': 100,\n",
    "    },\n",
    ")"
   ]
  },
  {
   "cell_type": "code",
   "execution_count": 6,
   "id": "95e6b578-4ece-4b90-9f02-8c68c1b2d5ea",
   "metadata": {
    "scrolled": true,
    "tags": []
   },
   "outputs": [
    {
     "name": "stdout",
     "output_type": "stream",
     "text": [
      "use random seed: 666\n",
      "Shape of Raw data\n",
      "Dataset 0: (729, 6)\n",
      "Dataset 1: (729, 4)\n",
      "---------------------------------\n",
      "Find correspondence between Dataset 1 and Dataset 2\n",
      "use device: cpu\n",
      "epoch:[600/10000] err:0.1996 alpha:0.5643\n",
      "epoch:[1200/10000] err:0.2789 alpha:0.8077\n",
      "epoch:[1800/10000] err:0.3205 alpha:0.9726\n",
      "epoch:[2400/10000] err:0.3335 alpha:1.0901\n",
      "epoch:[3000/10000] err:0.3270 alpha:1.1843\n",
      "epoch:[3600/10000] err:0.3122 alpha:1.2610\n",
      "epoch:[4200/10000] err:0.3108 alpha:1.2654\n",
      "epoch:[4800/10000] err:0.3554 alpha:1.1933\n",
      "epoch:[5400/10000] err:0.3865 alpha:1.1167\n",
      "epoch:[6000/10000] err:0.3923 alpha:1.1147\n",
      "epoch:[6600/10000] err:0.3943 alpha:1.1177\n",
      "epoch:[7200/10000] err:0.3973 alpha:1.1266\n",
      "epoch:[7800/10000] err:0.3988 alpha:1.1302\n",
      "epoch:[8400/10000] err:0.3980 alpha:1.1277\n",
      "epoch:[9000/10000] err:0.3955 alpha:1.1205\n",
      "epoch:[9600/10000] err:0.3984 alpha:1.1286\n",
      "Finished Matching!\n",
      "---------------------------------\n",
      "Begin finding the embedded space\n",
      "epoch:[100/300]: loss:3.603476, align_loss:0.623743\n",
      "epoch:[200/300]: loss:3.298498, align_loss:0.597352\n",
      "epoch:[300/300]: loss:3.004689, align_loss:0.516733\n",
      "Done\n",
      "---------------------------------\n",
      "unionCom Done!\n",
      "time: 28.3333957195282 seconds\n"
     ]
    }
   ],
   "source": [
    "anonymized_data_10 = anonymize(\n",
    "    mod1_sample.to_numpy(),\n",
    "    mod2_sample.to_numpy(),\n",
    "    embedding_dim=10,\n",
    "    embedding_kwargs={\n",
    "        'project_mode': 'tsne',\n",
    "        'epoch_pd': 10000,\n",
    "        'log_pd': 600,\n",
    "        'epoch_DNN': 300,\n",
    "        'log_DNN': 100,\n",
    "    },\n",
    ")"
   ]
  },
  {
   "cell_type": "code",
   "execution_count": 7,
   "id": "5ba6b394-d7f1-4ff1-a762-3191301cad01",
   "metadata": {
    "scrolled": true
   },
   "outputs": [
    {
     "name": "stdout",
     "output_type": "stream",
     "text": [
      "use random seed: 666\n",
      "Shape of Raw data\n",
      "Dataset 0: (729, 6)\n",
      "Dataset 1: (729, 4)\n",
      "---------------------------------\n",
      "Find correspondence between Dataset 1 and Dataset 2\n",
      "use device: cpu\n",
      "epoch:[600/10000] err:0.1996 alpha:0.5643\n",
      "epoch:[1200/10000] err:0.2789 alpha:0.8077\n",
      "epoch:[1800/10000] err:0.3205 alpha:0.9726\n",
      "epoch:[2400/10000] err:0.3335 alpha:1.0901\n",
      "epoch:[3000/10000] err:0.3270 alpha:1.1843\n",
      "epoch:[3600/10000] err:0.3122 alpha:1.2610\n",
      "epoch:[4200/10000] err:0.3108 alpha:1.2654\n",
      "epoch:[4800/10000] err:0.3554 alpha:1.1933\n",
      "epoch:[5400/10000] err:0.3865 alpha:1.1167\n",
      "epoch:[6000/10000] err:0.3923 alpha:1.1147\n",
      "epoch:[6600/10000] err:0.3943 alpha:1.1177\n",
      "epoch:[7200/10000] err:0.3973 alpha:1.1266\n",
      "epoch:[7800/10000] err:0.3988 alpha:1.1302\n",
      "epoch:[8400/10000] err:0.3980 alpha:1.1277\n",
      "epoch:[9000/10000] err:0.3955 alpha:1.1205\n",
      "epoch:[9600/10000] err:0.3984 alpha:1.1286\n",
      "Finished Matching!\n",
      "---------------------------------\n",
      "Begin finding the embedded space\n",
      "epoch:[100/300]: loss:2.579552, align_loss:0.350119\n",
      "epoch:[200/300]: loss:2.590793, align_loss:0.259202\n",
      "epoch:[300/300]: loss:2.328042, align_loss:0.140041\n",
      "Done\n",
      "---------------------------------\n",
      "unionCom Done!\n",
      "time: 38.943509340286255 seconds\n"
     ]
    }
   ],
   "source": [
    "anonymized_data_50 = anonymize(\n",
    "    mod1_sample.to_numpy(),\n",
    "    mod2_sample.to_numpy(),\n",
    "    embedding_dim=50,\n",
    "    embedding_kwargs={\n",
    "        'project_mode': 'tsne',\n",
    "        'epoch_pd': 10000,\n",
    "        'log_pd': 600,\n",
    "        'epoch_DNN': 300,\n",
    "        'log_DNN': 100,\n",
    "    },\n",
    ")"
   ]
  },
  {
   "cell_type": "markdown",
   "id": "8d2e8ede-26b5-43a0-a45e-c9ef489f3fe5",
   "metadata": {},
   "source": [
    "# Preview Results"
   ]
  },
  {
   "cell_type": "code",
   "execution_count": 8,
   "id": "f629eeca-d544-426d-a623-1ed69fde3b8c",
   "metadata": {},
   "outputs": [
    {
     "data": {
      "text/html": [
       "<div>\n",
       "<style scoped>\n",
       "    .dataframe tbody tr th:only-of-type {\n",
       "        vertical-align: middle;\n",
       "    }\n",
       "\n",
       "    .dataframe tbody tr th {\n",
       "        vertical-align: top;\n",
       "    }\n",
       "\n",
       "    .dataframe thead th {\n",
       "        text-align: right;\n",
       "    }\n",
       "</style>\n",
       "<table border=\"1\" class=\"dataframe\">\n",
       "  <thead>\n",
       "    <tr style=\"text-align: right;\">\n",
       "      <th></th>\n",
       "      <th>0</th>\n",
       "      <th>1</th>\n",
       "      <th>2</th>\n",
       "      <th>3</th>\n",
       "      <th>4</th>\n",
       "    </tr>\n",
       "    <tr>\n",
       "      <th>ProjectCountyName</th>\n",
       "      <th></th>\n",
       "      <th></th>\n",
       "      <th></th>\n",
       "      <th></th>\n",
       "      <th></th>\n",
       "    </tr>\n",
       "  </thead>\n",
       "  <tbody>\n",
       "    <tr>\n",
       "      <th>NESHOBA</th>\n",
       "      <td>-0.747629</td>\n",
       "      <td>-0.799931</td>\n",
       "      <td>-2.040301</td>\n",
       "      <td>-2.984718</td>\n",
       "      <td>-3.150348</td>\n",
       "    </tr>\n",
       "    <tr>\n",
       "      <th>CLEVELAND</th>\n",
       "      <td>2.623566</td>\n",
       "      <td>0.153653</td>\n",
       "      <td>-2.205921</td>\n",
       "      <td>1.066634</td>\n",
       "      <td>-0.542677</td>\n",
       "    </tr>\n",
       "    <tr>\n",
       "      <th>HUMBOLDT</th>\n",
       "      <td>1.697380</td>\n",
       "      <td>0.072830</td>\n",
       "      <td>-1.751709</td>\n",
       "      <td>0.568285</td>\n",
       "      <td>-0.544774</td>\n",
       "    </tr>\n",
       "    <tr>\n",
       "      <th>LAKE</th>\n",
       "      <td>1.806968</td>\n",
       "      <td>0.080471</td>\n",
       "      <td>-1.824470</td>\n",
       "      <td>0.606866</td>\n",
       "      <td>-0.574150</td>\n",
       "    </tr>\n",
       "    <tr>\n",
       "      <th>PENOBSCOT</th>\n",
       "      <td>1.248915</td>\n",
       "      <td>-1.531978</td>\n",
       "      <td>-0.556296</td>\n",
       "      <td>-0.709923</td>\n",
       "      <td>0.053720</td>\n",
       "    </tr>\n",
       "    <tr>\n",
       "      <th>...</th>\n",
       "      <td>...</td>\n",
       "      <td>...</td>\n",
       "      <td>...</td>\n",
       "      <td>...</td>\n",
       "      <td>...</td>\n",
       "    </tr>\n",
       "    <tr>\n",
       "      <th>BRAZOS</th>\n",
       "      <td>-0.235617</td>\n",
       "      <td>-0.745039</td>\n",
       "      <td>-2.218359</td>\n",
       "      <td>-2.627761</td>\n",
       "      <td>-3.033819</td>\n",
       "    </tr>\n",
       "    <tr>\n",
       "      <th>CASCADE</th>\n",
       "      <td>1.586690</td>\n",
       "      <td>-0.005459</td>\n",
       "      <td>-1.496282</td>\n",
       "      <td>0.614561</td>\n",
       "      <td>-0.277787</td>\n",
       "    </tr>\n",
       "    <tr>\n",
       "      <th>GUADALUPE</th>\n",
       "      <td>-0.865539</td>\n",
       "      <td>-0.613338</td>\n",
       "      <td>-1.790419</td>\n",
       "      <td>-2.614480</td>\n",
       "      <td>-2.748641</td>\n",
       "    </tr>\n",
       "    <tr>\n",
       "      <th>MIDLAND</th>\n",
       "      <td>-0.535820</td>\n",
       "      <td>-0.621342</td>\n",
       "      <td>-1.902743</td>\n",
       "      <td>-2.437238</td>\n",
       "      <td>-2.694469</td>\n",
       "    </tr>\n",
       "    <tr>\n",
       "      <th>CAROLINE</th>\n",
       "      <td>0.513145</td>\n",
       "      <td>-0.813757</td>\n",
       "      <td>-2.452347</td>\n",
       "      <td>-2.275236</td>\n",
       "      <td>-2.916094</td>\n",
       "    </tr>\n",
       "  </tbody>\n",
       "</table>\n",
       "<p>729 rows × 5 columns</p>\n",
       "</div>"
      ],
      "text/plain": [
       "                          0         1         2         3         4\n",
       "ProjectCountyName                                                  \n",
       "NESHOBA           -0.747629 -0.799931 -2.040301 -2.984718 -3.150348\n",
       "CLEVELAND          2.623566  0.153653 -2.205921  1.066634 -0.542677\n",
       "HUMBOLDT           1.697380  0.072830 -1.751709  0.568285 -0.544774\n",
       "LAKE               1.806968  0.080471 -1.824470  0.606866 -0.574150\n",
       "PENOBSCOT          1.248915 -1.531978 -0.556296 -0.709923  0.053720\n",
       "...                     ...       ...       ...       ...       ...\n",
       "BRAZOS            -0.235617 -0.745039 -2.218359 -2.627761 -3.033819\n",
       "CASCADE            1.586690 -0.005459 -1.496282  0.614561 -0.277787\n",
       "GUADALUPE         -0.865539 -0.613338 -1.790419 -2.614480 -2.748641\n",
       "MIDLAND           -0.535820 -0.621342 -1.902743 -2.437238 -2.694469\n",
       "CAROLINE           0.513145 -0.813757 -2.452347 -2.275236 -2.916094\n",
       "\n",
       "[729 rows x 5 columns]"
      ]
     },
     "execution_count": 8,
     "metadata": {},
     "output_type": "execute_result"
    }
   ],
   "source": [
    "pd.DataFrame(anonymized_data_5[0], index=annotations_sample.iloc[:, 0])"
   ]
  },
  {
   "cell_type": "markdown",
   "id": "878d4f96-bba0-426c-8604-1c0c112846fa",
   "metadata": {},
   "source": [
    "# Usability"
   ]
  },
  {
   "cell_type": "markdown",
   "id": "5a5e3f4d-93ce-40a7-8fc8-b2c4ef458a8d",
   "metadata": {},
   "source": [
    "## Arbitrary Statistic Prediction"
   ]
  },
  {
   "cell_type": "code",
   "execution_count": 9,
   "id": "cca2e98a-7b73-4726-8bb6-67b69fd79380",
   "metadata": {},
   "outputs": [],
   "source": [
    "target = np.sqrt(mod1_sample['totalpop_other'] * mod2_sample['HEALTH_CARE_PROCEED']).to_numpy().reshape((-1, 1))\n",
    "source_raw = pd.concat([mod1_sample, mod2_sample], axis=1).to_numpy().astype(np.float32)"
   ]
  },
  {
   "cell_type": "markdown",
   "id": "83b0e17a-f724-487d-b941-92713925318a",
   "metadata": {},
   "source": [
    "### Before Anonymization"
   ]
  },
  {
   "cell_type": "code",
   "execution_count": 10,
   "id": "7702aeb6-ab35-48b7-a5d0-25a4d71a1a0e",
   "metadata": {},
   "outputs": [
    {
     "name": "stdout",
     "output_type": "stream",
     "text": [
      "Epoch:  50    Loss:  0.00133\n",
      "Epoch: 100    Loss:  0.00130\n",
      "Epoch: 150    Loss:  0.00129\n",
      "Epoch: 200    Loss:  0.00128\n"
     ]
    },
    {
     "data": {
      "image/png": "[encoded data removed]",
      "text/plain": [
       "<Figure size 432x288 with 1 Axes>"
      ]
     },
     "metadata": {
      "needs_background": "light"
     },
     "output_type": "display_data"
    }
   ],
   "source": [
    "prediction, split_idx = predict_from_data(source_raw, target, nn_kwargs={'epochs': 200})\n",
    "plot_example_results(target, prediction, split_idx=split_idx)"
   ]
  },
  {
   "cell_type": "markdown",
   "id": "56e384ba-5474-49dd-aef5-7b62e7cb0412",
   "metadata": {},
   "source": [
    "### After Anonymization"
   ]
  },
  {
   "cell_type": "code",
   "execution_count": 11,
   "id": "20ae39e5-e357-4fde-9520-ff6a83a9eb93",
   "metadata": {},
   "outputs": [
    {
     "name": "stdout",
     "output_type": "stream",
     "text": [
      "Epoch:  50    Loss:  0.00607\n",
      "Epoch: 100    Loss:  0.00595\n",
      "Epoch: 150    Loss:  0.00593\n",
      "Epoch: 200    Loss:  0.00593\n",
      "Epoch:  50    Loss:  0.00562\n",
      "Epoch: 100    Loss:  0.00546\n",
      "Epoch: 150    Loss:  0.00542\n",
      "Epoch: 200    Loss:  0.00539\n",
      "Epoch:  50    Loss:  0.00482\n",
      "Epoch: 100    Loss:  0.00440\n",
      "Epoch: 150    Loss:  0.00413\n",
      "Epoch: 200    Loss:  0.00399\n"
     ]
    },
    {
     "data": {
      "image/png": "[encoded data removed]",
      "text/plain": [
       "<Figure size 1296x432 with 3 Axes>"
      ]
     },
     "metadata": {
      "needs_background": "light"
     },
     "output_type": "display_data"
    }
   ],
   "source": [
    "fig, axis = plt.subplots(figsize=(18, 6))\n",
    "ax = plt.subplot(1, 3, 1)\n",
    "plt.title('5 Anonymous Features')\n",
    "prediction, split_idx = predict_from_data(anonymized_data_5[0], target, nn_kwargs={'epochs': 200})\n",
    "plot_example_results(target, prediction, split_idx=split_idx, ax=ax)\n",
    "\n",
    "ax = plt.subplot(1, 3, 2)\n",
    "plt.title('10 Anonymous Features')\n",
    "prediction, split_idx = predict_from_data(anonymized_data_10[0], target, nn_kwargs={'epochs': 200})\n",
    "plot_example_results(target, prediction, split_idx=split_idx, ax=ax)\n",
    "\n",
    "ax = plt.subplot(1, 3, 3)\n",
    "plt.title('50 Anonymous Features')\n",
    "prediction, split_idx = predict_from_data(anonymized_data_50[0], target, nn_kwargs={'epochs': 200})\n",
    "plot_example_results(target, prediction, split_idx=split_idx, ax=ax)"
   ]
  }
 ],
 "metadata": {
  "kernelspec": {
   "display_name": "Python 3 (ipykernel)",
   "language": "python",
   "name": "python3"
  },
  "language_info": {
   "codemirror_mode": {
    "name": "ipython",
    "version": 3
   },
   "file_extension": ".py",
   "mimetype": "text/x-python",
   "name": "python",
   "nbconvert_exporter": "python",
   "pygments_lexer": "ipython3",
   "version": "3.9.5"
  }
 },
 "nbformat": 4,
 "nbformat_minor": 5
}
