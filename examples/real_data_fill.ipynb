{
 "cells": [
  {
   "cell_type": "code",
   "execution_count": 1,
   "id": "cfae283a-68a4-4673-9c3f-d40d3be7f3fd",
   "metadata": {},
   "outputs": [],
   "source": [
    "%load_ext autoreload\n",
    "%autoreload 2"
   ]
  },
  {
   "cell_type": "code",
   "execution_count": 2,
   "id": "df9443d7-bb8d-4b06-9ba0-c39838ff7274",
   "metadata": {},
   "outputs": [],
   "source": [
    "import matplotlib.pyplot as plt\n",
    "import pandas as pd\n",
    "\n",
    "from data_reconstruct import *\n",
    "from data_reconstruct.backend import *\n",
    "from data_reconstruct.examples import *\n",
    "from data_reconstruct.utilities import *"
   ]
  },
  {
   "cell_type": "code",
   "execution_count": 3,
   "id": "b2927419-51a9-442a-bb80-c8211884de98",
   "metadata": {},
   "outputs": [],
   "source": [
    "random_state = 42\n",
    "np.random.seed(random_state)"
   ]
  },
  {
   "cell_type": "markdown",
   "id": "b693c54a-e6bd-47a1-8531-7383212bb11e",
   "metadata": {},
   "source": [
    "# Load Data"
   ]
  },
  {
   "cell_type": "code",
   "execution_count": 4,
   "id": "cd048196-41d5-49b4-b547-110da033f763",
   "metadata": {},
   "outputs": [],
   "source": [
    "# Read\n",
    "mod1 = pd.read_csv('data/decennial_2020_nov8GAN.csv')[1:]\n",
    "mod2 = pd.read_csv('data/public_150k_plus_210630.csv')\n",
    "mod1_tagged = process_decennial(mod1)\n",
    "mod2_tagged = process_ppp(mod2)\n",
    "mod1, mod1_cols, mod1_tags_cols = mod1_tagged\n",
    "mod2, mod2_cols, mod2_tags_cols = mod2_tagged\n",
    "\n",
    "# Merge\n",
    "mod1, mod2, annotations = merge_data(mod1_tagged, mod2_tagged)\n",
    "\n",
    "# Sample\n",
    "num_samples = min(mod1.shape[0], 4000)\n",
    "mod1_sample = mod1.sample(num_samples, random_state=random_state)\n",
    "mod2_sample = mod2.sample(num_samples, random_state=random_state)\n",
    "annotations_sample = annotations.sample(num_samples, random_state=random_state);"
   ]
  },
  {
   "cell_type": "markdown",
   "id": "bea4985e-f9d2-4379-837c-b5dbe4128d32",
   "metadata": {},
   "source": [
    "# Predict Excluded Records"
   ]
  },
  {
   "cell_type": "code",
   "execution_count": 5,
   "id": "95e6b578-4ece-4b90-9f02-8c68c1b2d5ea",
   "metadata": {
    "tags": []
   },
   "outputs": [
    {
     "name": "stdout",
     "output_type": "stream",
     "text": [
      "use random seed: 666\n",
      "Shape of Raw data\n",
      "Dataset 0: (4000, 6)\n",
      "Dataset 1: (3200, 4)\n",
      "---------------------------------\n",
      "Find correspondence between Dataset 1 and Dataset 2\n",
      "use device: cpu\n",
      "epoch:[200/1000] err:26.2551 alpha:17.1409\n",
      "epoch:[400/1000] err:0.4725 alpha:0.3077\n",
      "epoch:[600/1000] err:0.0084 alpha:0.0055\n",
      "epoch:[800/1000] err:0.0002 alpha:0.0001\n",
      "epoch:[1000/1000] err:0.0000 alpha:0.0000\n",
      "Finished Matching!\n",
      "---------------------------------\n",
      "Begin finding the embedded space\n",
      "epoch:[100/300]: loss:2.828780, align_loss:0.219067\n",
      "epoch:[200/300]: loss:2.050999, align_loss:0.475483\n",
      "epoch:[300/300]: loss:2.280266, align_loss:0.543242\n",
      "Done\n",
      "---------------------------------\n",
      "unionCom Done!\n",
      "time: 432.5297589302063 seconds\n",
      "---------------------------------\n",
      "Mapping to last dataset...\n",
      "Epoch: 100    Loss:  0.04199\n",
      "Epoch: 200    Loss:  0.04196\n",
      "Epoch: 300    Loss:  0.04200\n",
      "Validation Loss: 0.03947\n"
     ]
    }
   ],
   "source": [
    "predicted_feature = 0\n",
    "\n",
    "split_idx = int(.8 * len(mod2_sample))\n",
    "pipeline_output = run_pipeline(\n",
    "    mod1_sample.to_numpy(),\n",
    "    mod2_sample.to_numpy(),\n",
    "    train_idx=split_idx,\n",
    "    output_cols=[predicted_feature],\n",
    "    embedding_dim=50,\n",
    "    embedding_kwargs={\n",
    "        'project_mode': 'tsne',\n",
    "        'epoch_pd': 1000,\n",
    "        'log_pd': 200,\n",
    "        'epoch_DNN': 300,\n",
    "        'log_DNN': 100,\n",
    "    },\n",
    "    hidden_dim=100,\n",
    "    nn_kwargs={\n",
    "        'epochs': 300,\n",
    "        'log_epoch': 100,\n",
    "    },\n",
    ")"
   ]
  },
  {
   "cell_type": "markdown",
   "id": "8d2e8ede-26b5-43a0-a45e-c9ef489f3fe5",
   "metadata": {},
   "source": [
    "# Evaluate Results"
   ]
  },
  {
   "cell_type": "code",
   "execution_count": 6,
   "id": "f629eeca-d544-426d-a623-1ed69fde3b8c",
   "metadata": {},
   "outputs": [
    {
     "data": {
      "image/png": "[encoded data removed]",
      "text/plain": [
       "<Figure size 432x288 with 1 Axes>"
      ]
     },
     "metadata": {
      "needs_background": "light"
     },
     "output_type": "display_data"
    }
   ],
   "source": [
    "plot_example_results(mod2_sample.iloc[:, predicted_feature], pipeline_output, split_idx)"
   ]
  }
 ],
 "metadata": {
  "kernelspec": {
   "display_name": "Python 3 (ipykernel)",
   "language": "python",
   "name": "python3"
  },
  "language_info": {
   "codemirror_mode": {
    "name": "ipython",
    "version": 3
   },
   "file_extension": ".py",
   "mimetype": "text/x-python",
   "name": "python",
   "nbconvert_exporter": "python",
   "pygments_lexer": "ipython3",
   "version": "3.9.5"
  }
 },
 "nbformat": 4,
 "nbformat_minor": 5
}
