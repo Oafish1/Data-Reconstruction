{
 "cells": [
  {
   "cell_type": "code",
   "execution_count": 1,
   "id": "cfae283a-68a4-4673-9c3f-d40d3be7f3fd",
   "metadata": {},
   "outputs": [],
   "source": [
    "%load_ext autoreload\n",
    "%autoreload 2"
   ]
  },
  {
   "cell_type": "code",
   "execution_count": 2,
   "id": "df9443d7-bb8d-4b06-9ba0-c39838ff7274",
   "metadata": {},
   "outputs": [],
   "source": [
    "import matplotlib.pyplot as plt\n",
    "import pandas as pd\n",
    "\n",
    "from data_reconstruct import *\n",
    "from data_reconstruct.backend import *\n",
    "from data_reconstruct.examples import *\n",
    "from data_reconstruct.utilities import *"
   ]
  },
  {
   "cell_type": "code",
   "execution_count": 3,
   "id": "b2927419-51a9-442a-bb80-c8211884de98",
   "metadata": {},
   "outputs": [],
   "source": [
    "random_state = 42\n",
    "np.random.seed(random_state)"
   ]
  },
  {
   "cell_type": "markdown",
   "id": "b693c54a-e6bd-47a1-8531-7383212bb11e",
   "metadata": {},
   "source": [
    "# Load Data"
   ]
  },
  {
   "cell_type": "code",
   "execution_count": 4,
   "id": "05e10529-43bc-4e92-9335-c3f86c7ce091",
   "metadata": {},
   "outputs": [],
   "source": [
    "# Read\n",
    "mod1 = pd.read_csv('data/decennial_2020_nov8GAN.csv')[1:]\n",
    "mod2 = pd.read_csv('data/public_150k_plus_210630.csv')\n",
    "mod1_tagged = process_decennial(mod1)\n",
    "mod2_tagged = process_ppp(mod2)\n",
    "mod1, mod1_cols, mod1_tags_cols = mod1_tagged\n",
    "mod2, mod2_cols, mod2_tags_cols = mod2_tagged\n",
    "\n",
    "# Merge\n",
    "mod1, mod2, annotations = merge_data(mod1_tagged, mod2_tagged, agg_by_tag=True)\n",
    "\n",
    "# Sample\n",
    "num_samples = min(mod1.shape[0], 2000)\n",
    "mod1_sample = mod1.sample(num_samples, random_state=random_state)\n",
    "mod2_sample = mod2.sample(num_samples, random_state=random_state)\n",
    "annotations_sample = annotations.sample(num_samples, random_state=random_state);"
   ]
  },
  {
   "cell_type": "markdown",
   "id": "bea4985e-f9d2-4379-837c-b5dbe4128d32",
   "metadata": {},
   "source": [
    "# Generate Merged Anonymous Records"
   ]
  },
  {
   "cell_type": "code",
   "execution_count": 5,
   "id": "95e6b578-4ece-4b90-9f02-8c68c1b2d5ea",
   "metadata": {
    "tags": []
   },
   "outputs": [
    {
     "name": "stdout",
     "output_type": "stream",
     "text": [
      "use random seed: 666\n",
      "Shape of Raw data\n",
      "Dataset 0: (729, 6)\n",
      "Dataset 1: (729, 4)\n",
      "---------------------------------\n",
      "Find correspondence between Dataset 1 and Dataset 2\n",
      "use device: cpu\n",
      "epoch:[200/1000] err:0.4023 alpha:1.1304\n",
      "epoch:[400/1000] err:0.1626 alpha:0.4578\n",
      "epoch:[600/1000] err:0.1996 alpha:0.5643\n",
      "epoch:[800/1000] err:0.2308 alpha:0.6561\n",
      "epoch:[1000/1000] err:0.2571 alpha:0.7368\n",
      "Finished Matching!\n",
      "---------------------------------\n",
      "Begin finding the embedded space\n",
      "epoch:[100/100]: loss:3.316516, align_loss:0.509335\n",
      "Done\n",
      "---------------------------------\n",
      "unionCom Done!\n",
      "time: 19.974509716033936 seconds\n"
     ]
    }
   ],
   "source": [
    "anonymized_data = anonymize(\n",
    "    mod1_sample.to_numpy(),\n",
    "    mod2_sample.to_numpy(),\n",
    "    embedding_dim=10,\n",
    "    embedding_kwargs={\n",
    "        'project_mode': 'tsne',\n",
    "        'epoch_pd': 1000,\n",
    "        'log_pd': 200,\n",
    "        'epoch_DNN': 100,\n",
    "        'log_DNN': 100,\n",
    "    },\n",
    ")"
   ]
  },
  {
   "cell_type": "markdown",
   "id": "8d2e8ede-26b5-43a0-a45e-c9ef489f3fe5",
   "metadata": {},
   "source": [
    "# Preview Results"
   ]
  },
  {
   "cell_type": "code",
   "execution_count": 6,
   "id": "f629eeca-d544-426d-a623-1ed69fde3b8c",
   "metadata": {},
   "outputs": [
    {
     "data": {
      "text/html": [
       "<div>\n",
       "<style scoped>\n",
       "    .dataframe tbody tr th:only-of-type {\n",
       "        vertical-align: middle;\n",
       "    }\n",
       "\n",
       "    .dataframe tbody tr th {\n",
       "        vertical-align: top;\n",
       "    }\n",
       "\n",
       "    .dataframe thead th {\n",
       "        text-align: right;\n",
       "    }\n",
       "</style>\n",
       "<table border=\"1\" class=\"dataframe\">\n",
       "  <thead>\n",
       "    <tr style=\"text-align: right;\">\n",
       "      <th></th>\n",
       "      <th>0</th>\n",
       "      <th>1</th>\n",
       "      <th>2</th>\n",
       "      <th>3</th>\n",
       "      <th>4</th>\n",
       "      <th>5</th>\n",
       "      <th>6</th>\n",
       "      <th>7</th>\n",
       "      <th>8</th>\n",
       "      <th>9</th>\n",
       "    </tr>\n",
       "    <tr>\n",
       "      <th>ProjectCountyName</th>\n",
       "      <th></th>\n",
       "      <th></th>\n",
       "      <th></th>\n",
       "      <th></th>\n",
       "      <th></th>\n",
       "      <th></th>\n",
       "      <th></th>\n",
       "      <th></th>\n",
       "      <th></th>\n",
       "      <th></th>\n",
       "    </tr>\n",
       "  </thead>\n",
       "  <tbody>\n",
       "    <tr>\n",
       "      <th>NESHOBA</th>\n",
       "      <td>2.891493</td>\n",
       "      <td>-1.977890</td>\n",
       "      <td>-1.353238</td>\n",
       "      <td>1.965140</td>\n",
       "      <td>-2.156263</td>\n",
       "      <td>-1.907313</td>\n",
       "      <td>-1.972180</td>\n",
       "      <td>-0.450202</td>\n",
       "      <td>-2.445357</td>\n",
       "      <td>-2.255031</td>\n",
       "    </tr>\n",
       "    <tr>\n",
       "      <th>CLEVELAND</th>\n",
       "      <td>-1.806849</td>\n",
       "      <td>0.811407</td>\n",
       "      <td>-0.080906</td>\n",
       "      <td>-1.815551</td>\n",
       "      <td>0.530689</td>\n",
       "      <td>0.642399</td>\n",
       "      <td>0.302727</td>\n",
       "      <td>-0.462854</td>\n",
       "      <td>1.208565</td>\n",
       "      <td>1.760480</td>\n",
       "    </tr>\n",
       "    <tr>\n",
       "      <th>HUMBOLDT</th>\n",
       "      <td>-0.787833</td>\n",
       "      <td>0.000231</td>\n",
       "      <td>0.256909</td>\n",
       "      <td>-0.829869</td>\n",
       "      <td>-0.440409</td>\n",
       "      <td>0.331436</td>\n",
       "      <td>0.053342</td>\n",
       "      <td>0.584466</td>\n",
       "      <td>-0.011021</td>\n",
       "      <td>0.478801</td>\n",
       "    </tr>\n",
       "    <tr>\n",
       "      <th>LAKE</th>\n",
       "      <td>-1.145615</td>\n",
       "      <td>-0.214830</td>\n",
       "      <td>-0.232433</td>\n",
       "      <td>-0.829827</td>\n",
       "      <td>-0.753118</td>\n",
       "      <td>0.003020</td>\n",
       "      <td>-0.637637</td>\n",
       "      <td>0.049623</td>\n",
       "      <td>0.391772</td>\n",
       "      <td>0.357780</td>\n",
       "    </tr>\n",
       "    <tr>\n",
       "      <th>PENOBSCOT</th>\n",
       "      <td>-0.244805</td>\n",
       "      <td>-2.859722</td>\n",
       "      <td>2.096595</td>\n",
       "      <td>-1.787663</td>\n",
       "      <td>0.015580</td>\n",
       "      <td>1.482375</td>\n",
       "      <td>0.358948</td>\n",
       "      <td>2.675474</td>\n",
       "      <td>0.275013</td>\n",
       "      <td>-1.109564</td>\n",
       "    </tr>\n",
       "    <tr>\n",
       "      <th>...</th>\n",
       "      <td>...</td>\n",
       "      <td>...</td>\n",
       "      <td>...</td>\n",
       "      <td>...</td>\n",
       "      <td>...</td>\n",
       "      <td>...</td>\n",
       "      <td>...</td>\n",
       "      <td>...</td>\n",
       "      <td>...</td>\n",
       "      <td>...</td>\n",
       "    </tr>\n",
       "    <tr>\n",
       "      <th>BRAZOS</th>\n",
       "      <td>1.817484</td>\n",
       "      <td>-1.344863</td>\n",
       "      <td>-0.654994</td>\n",
       "      <td>1.062701</td>\n",
       "      <td>-1.291620</td>\n",
       "      <td>-1.108390</td>\n",
       "      <td>-0.939807</td>\n",
       "      <td>0.086791</td>\n",
       "      <td>-1.673230</td>\n",
       "      <td>-1.497638</td>\n",
       "    </tr>\n",
       "    <tr>\n",
       "      <th>CASCADE</th>\n",
       "      <td>-0.686213</td>\n",
       "      <td>-0.848294</td>\n",
       "      <td>1.034363</td>\n",
       "      <td>-1.167623</td>\n",
       "      <td>-0.474307</td>\n",
       "      <td>0.833560</td>\n",
       "      <td>0.212677</td>\n",
       "      <td>1.533907</td>\n",
       "      <td>-0.082424</td>\n",
       "      <td>0.046614</td>\n",
       "    </tr>\n",
       "    <tr>\n",
       "      <th>GUADALUPE</th>\n",
       "      <td>1.869251</td>\n",
       "      <td>-2.584731</td>\n",
       "      <td>-0.045858</td>\n",
       "      <td>0.870094</td>\n",
       "      <td>-1.522159</td>\n",
       "      <td>-0.712031</td>\n",
       "      <td>-1.036330</td>\n",
       "      <td>1.174830</td>\n",
       "      <td>-1.660301</td>\n",
       "      <td>-2.206576</td>\n",
       "    </tr>\n",
       "    <tr>\n",
       "      <th>MIDLAND</th>\n",
       "      <td>1.736161</td>\n",
       "      <td>-2.131219</td>\n",
       "      <td>-0.171461</td>\n",
       "      <td>0.825789</td>\n",
       "      <td>-1.354811</td>\n",
       "      <td>-0.759241</td>\n",
       "      <td>-0.920235</td>\n",
       "      <td>0.850925</td>\n",
       "      <td>-1.565159</td>\n",
       "      <td>-1.901944</td>\n",
       "    </tr>\n",
       "    <tr>\n",
       "      <th>CAROLINE</th>\n",
       "      <td>1.172418</td>\n",
       "      <td>-1.311609</td>\n",
       "      <td>-1.321372</td>\n",
       "      <td>0.777934</td>\n",
       "      <td>-1.528509</td>\n",
       "      <td>-1.316844</td>\n",
       "      <td>-1.778630</td>\n",
       "      <td>-0.786123</td>\n",
       "      <td>-0.999574</td>\n",
       "      <td>-1.043454</td>\n",
       "    </tr>\n",
       "  </tbody>\n",
       "</table>\n",
       "<p>729 rows × 10 columns</p>\n",
       "</div>"
      ],
      "text/plain": [
       "                          0         1         2         3         4         5  \\\n",
       "ProjectCountyName                                                               \n",
       "NESHOBA            2.891493 -1.977890 -1.353238  1.965140 -2.156263 -1.907313   \n",
       "CLEVELAND         -1.806849  0.811407 -0.080906 -1.815551  0.530689  0.642399   \n",
       "HUMBOLDT          -0.787833  0.000231  0.256909 -0.829869 -0.440409  0.331436   \n",
       "LAKE              -1.145615 -0.214830 -0.232433 -0.829827 -0.753118  0.003020   \n",
       "PENOBSCOT         -0.244805 -2.859722  2.096595 -1.787663  0.015580  1.482375   \n",
       "...                     ...       ...       ...       ...       ...       ...   \n",
       "BRAZOS             1.817484 -1.344863 -0.654994  1.062701 -1.291620 -1.108390   \n",
       "CASCADE           -0.686213 -0.848294  1.034363 -1.167623 -0.474307  0.833560   \n",
       "GUADALUPE          1.869251 -2.584731 -0.045858  0.870094 -1.522159 -0.712031   \n",
       "MIDLAND            1.736161 -2.131219 -0.171461  0.825789 -1.354811 -0.759241   \n",
       "CAROLINE           1.172418 -1.311609 -1.321372  0.777934 -1.528509 -1.316844   \n",
       "\n",
       "                          6         7         8         9  \n",
       "ProjectCountyName                                          \n",
       "NESHOBA           -1.972180 -0.450202 -2.445357 -2.255031  \n",
       "CLEVELAND          0.302727 -0.462854  1.208565  1.760480  \n",
       "HUMBOLDT           0.053342  0.584466 -0.011021  0.478801  \n",
       "LAKE              -0.637637  0.049623  0.391772  0.357780  \n",
       "PENOBSCOT          0.358948  2.675474  0.275013 -1.109564  \n",
       "...                     ...       ...       ...       ...  \n",
       "BRAZOS            -0.939807  0.086791 -1.673230 -1.497638  \n",
       "CASCADE            0.212677  1.533907 -0.082424  0.046614  \n",
       "GUADALUPE         -1.036330  1.174830 -1.660301 -2.206576  \n",
       "MIDLAND           -0.920235  0.850925 -1.565159 -1.901944  \n",
       "CAROLINE          -1.778630 -0.786123 -0.999574 -1.043454  \n",
       "\n",
       "[729 rows x 10 columns]"
      ]
     },
     "execution_count": 6,
     "metadata": {},
     "output_type": "execute_result"
    }
   ],
   "source": [
    "pd.DataFrame(anonymized_data[0], index=annotations_sample.iloc[:, 0])"
   ]
  },
  {
   "cell_type": "markdown",
   "id": "878d4f96-bba0-426c-8604-1c0c112846fa",
   "metadata": {},
   "source": [
    "# Usability"
   ]
  },
  {
   "cell_type": "markdown",
   "id": "5a5e3f4d-93ce-40a7-8fc8-b2c4ef458a8d",
   "metadata": {},
   "source": [
    "## Arbitrary Statistic Prediction"
   ]
  },
  {
   "cell_type": "code",
   "execution_count": 7,
   "id": "cca2e98a-7b73-4726-8bb6-67b69fd79380",
   "metadata": {},
   "outputs": [],
   "source": [
    "target = np.sqrt(mod1_sample['totalpop_other'] * mod2_sample['HEALTH_CARE_PROCEED']).to_numpy().reshape((-1, 1))\n",
    "source_raw = pd.concat([mod1_sample, mod2_sample], axis=1).to_numpy().astype(np.float32)\n",
    "source = anonymized_data[0]"
   ]
  },
  {
   "cell_type": "markdown",
   "id": "83b0e17a-f724-487d-b941-92713925318a",
   "metadata": {},
   "source": [
    "### Before Anonymization"
   ]
  },
  {
   "cell_type": "code",
   "execution_count": 8,
   "id": "7702aeb6-ab35-48b7-a5d0-25a4d71a1a0e",
   "metadata": {},
   "outputs": [
    {
     "name": "stdout",
     "output_type": "stream",
     "text": [
      "Epoch:  50    Loss:  0.00134\n"
     ]
    },
    {
     "data": {
      "image/png": "[encoded data removed]",
      "text/plain": [
       "<Figure size 432x288 with 1 Axes>"
      ]
     },
     "metadata": {
      "needs_background": "light"
     },
     "output_type": "display_data"
    }
   ],
   "source": [
    "prediction, split_idx = predict_from_data(source_raw, target, nn_kwargs={'epochs': 50})\n",
    "plot_example_results(target, prediction, split_idx=split_idx)"
   ]
  },
  {
   "cell_type": "markdown",
   "id": "ee41340d-c5e0-4e66-963a-75898b27e9df",
   "metadata": {},
   "source": [
    "### After Anonymization (10 Anonymous Features)"
   ]
  },
  {
   "cell_type": "code",
   "execution_count": 9,
   "id": "7aa701cd-b578-4628-805d-e664d2483809",
   "metadata": {},
   "outputs": [
    {
     "name": "stdout",
     "output_type": "stream",
     "text": [
      "Epoch:  50    Loss:  0.00457\n"
     ]
    },
    {
     "data": {
      "image/png": "[encoded data removed]",
      "text/plain": [
       "<Figure size 432x288 with 1 Axes>"
      ]
     },
     "metadata": {
      "needs_background": "light"
     },
     "output_type": "display_data"
    }
   ],
   "source": [
    "prediction, split_idx = predict_from_data(source, target, nn_kwargs={'epochs': 50})\n",
    "plot_example_results(target, prediction, split_idx=split_idx)"
   ]
  }
 ],
 "metadata": {
  "kernelspec": {
   "display_name": "Python 3 (ipykernel)",
   "language": "python",
   "name": "python3"
  },
  "language_info": {
   "codemirror_mode": {
    "name": "ipython",
    "version": 3
   },
   "file_extension": ".py",
   "mimetype": "text/x-python",
   "name": "python",
   "nbconvert_exporter": "python",
   "pygments_lexer": "ipython3",
   "version": "3.9.5"
  }
 },
 "nbformat": 4,
 "nbformat_minor": 5
}
