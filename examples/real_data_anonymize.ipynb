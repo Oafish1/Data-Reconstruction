{
 "cells": [
  {
   "cell_type": "code",
   "execution_count": 1,
   "id": "cfae283a-68a4-4673-9c3f-d40d3be7f3fd",
   "metadata": {},
   "outputs": [],
   "source": [
    "%load_ext autoreload\n",
    "%autoreload 2"
   ]
  },
  {
   "cell_type": "code",
   "execution_count": 2,
   "id": "df9443d7-bb8d-4b06-9ba0-c39838ff7274",
   "metadata": {},
   "outputs": [],
   "source": [
    "import matplotlib.pyplot as plt\n",
    "import pandas as pd\n",
    "\n",
    "from data_reconstruct import *\n",
    "from data_reconstruct.backend import *\n",
    "from data_reconstruct.examples import *\n",
    "from data_reconstruct.utilities import *"
   ]
  },
  {
   "cell_type": "code",
   "execution_count": 3,
   "id": "b2927419-51a9-442a-bb80-c8211884de98",
   "metadata": {},
   "outputs": [],
   "source": [
    "random_state = 42\n",
    "np.random.seed(random_state)"
   ]
  },
  {
   "cell_type": "markdown",
   "id": "b693c54a-e6bd-47a1-8531-7383212bb11e",
   "metadata": {},
   "source": [
    "# Load Data"
   ]
  },
  {
   "cell_type": "code",
   "execution_count": null,
   "id": "05e10529-43bc-4e92-9335-c3f86c7ce091",
   "metadata": {},
   "outputs": [],
   "source": [
    "# Read\n",
    "mod1 = pd.read_csv('data/decennial_2020_nov8GAN.csv')[1:]\n",
    "mod2 = pd.read_csv('data/public_150k_plus_210630.csv')\n",
    "mod1_tagged = process_decennial(mod1)\n",
    "mod2_tagged = process_ppp(mod2)\n",
    "mod1, mod1_cols, mod1_tags_cols = mod1_tagged\n",
    "mod2, mod2_cols, mod2_tags_cols = mod2_tagged\n",
    "\n",
    "# Merge\n",
    "mod1, mod2, annotations = merge_data(mod1_tagged, mod2_tagged, agg_by_tag=True)\n",
    "\n",
    "# Sample\n",
    "num_samples = min(mod1.shape[0], 2000)\n",
    "mod1_sample = mod1.sample(num_samples, random_state=random_state)\n",
    "mod2_sample = mod2.sample(num_samples, random_state=random_state)\n",
    "annotations_sample = annotations.sample(num_samples, random_state=random_state);"
   ]
  },
  {
   "cell_type": "markdown",
   "id": "bea4985e-f9d2-4379-837c-b5dbe4128d32",
   "metadata": {},
   "source": [
    "# Generate Merged Anonymous Records"
   ]
  },
  {
   "cell_type": "code",
   "execution_count": null,
   "id": "95e6b578-4ece-4b90-9f02-8c68c1b2d5ea",
   "metadata": {
    "tags": []
   },
   "outputs": [],
   "source": [
    "anonymized_data = anonymize(\n",
    "    mod1_sample.to_numpy(),\n",
    "    mod2_sample.to_numpy(),\n",
    "    embedding_dim=5,\n",
    "    embedding_kwargs={\n",
    "        'project_mode': 'tsne',\n",
    "        'epoch_pd': 2000,\n",
    "        'log_pd': 200,\n",
    "        'epoch_DNN': 200,\n",
    "        'log_DNN': 100,\n",
    "    },\n",
    ")"
   ]
  },
  {
   "cell_type": "markdown",
   "id": "8d2e8ede-26b5-43a0-a45e-c9ef489f3fe5",
   "metadata": {},
   "source": [
    "# Preview Results"
   ]
  },
  {
   "cell_type": "code",
   "execution_count": null,
   "id": "f629eeca-d544-426d-a623-1ed69fde3b8c",
   "metadata": {},
   "outputs": [],
   "source": [
    "pd.DataFrame(anonymized_data[0], index=annotations_sample.iloc[:, 0])"
   ]
  },
  {
   "cell_type": "markdown",
   "id": "878d4f96-bba0-426c-8604-1c0c112846fa",
   "metadata": {},
   "source": [
    "# Usability"
   ]
  },
  {
   "cell_type": "markdown",
   "id": "5a5e3f4d-93ce-40a7-8fc8-b2c4ef458a8d",
   "metadata": {},
   "source": [
    "## Arbitrary Statistic Prediction"
   ]
  },
  {
   "cell_type": "code",
   "execution_count": null,
   "id": "cca2e98a-7b73-4726-8bb6-67b69fd79380",
   "metadata": {},
   "outputs": [],
   "source": [
    "target = np.sqrt(mod1_sample['totalpop_other'] * mod2_sample['HEALTH_CARE_PROCEED']).to_numpy().reshape((-1, 1))\n",
    "source = anonymized_data[0]"
   ]
  },
  {
   "cell_type": "code",
   "execution_count": null,
   "id": "7702aeb6-ab35-48b7-a5d0-25a4d71a1a0e",
   "metadata": {},
   "outputs": [],
   "source": [
    "from data_reconstruct.backend import create_dataloader, train_model\n",
    "from data_reconstruct.model_classes import Model\n",
    "\n",
    "split_idx = int(.8 * target.shape[0])\n",
    "training_loader = create_dataloader(source[:split_idx], target[:split_idx])\n",
    "model = model_classes.Model(target.shape[1], 1, hidden_dim=20)\n",
    "train_model(model, training_loader)"
   ]
  },
  {
   "cell_type": "code",
   "execution_count": null,
   "id": "1b3947fd-1028-4392-ab74-8a73b7f9e3af",
   "metadata": {},
   "outputs": [],
   "source": [
    "prediction = model(torch.Tensor(source)).detach().numpy()"
   ]
  },
  {
   "cell_type": "code",
   "execution_count": null,
   "id": "7aa701cd-b578-4628-805d-e664d2483809",
   "metadata": {},
   "outputs": [],
   "source": [
    "plot_example_results(target, prediction, split_idx=split_idx)"
   ]
  }
 ],
 "metadata": {
  "kernelspec": {
   "display_name": "Python 3 (ipykernel)",
   "language": "python",
   "name": "python3"
  },
  "language_info": {
   "codemirror_mode": {
    "name": "ipython",
    "version": 3
   },
   "file_extension": ".py",
   "mimetype": "text/x-python",
   "name": "python",
   "nbconvert_exporter": "python",
   "pygments_lexer": "ipython3",
   "version": "3.9.5"
  }
 },
 "nbformat": 4,
 "nbformat_minor": 5
}
