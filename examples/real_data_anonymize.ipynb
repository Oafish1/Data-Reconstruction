{
 "cells": [
  {
   "cell_type": "code",
   "execution_count": 1,
   "id": "cfae283a-68a4-4673-9c3f-d40d3be7f3fd",
   "metadata": {},
   "outputs": [],
   "source": [
    "%load_ext autoreload\n",
    "%autoreload 2"
   ]
  },
  {
   "cell_type": "code",
   "execution_count": 2,
   "id": "df9443d7-bb8d-4b06-9ba0-c39838ff7274",
   "metadata": {},
   "outputs": [],
   "source": [
    "import matplotlib.pyplot as plt\n",
    "import pandas as pd\n",
    "\n",
    "from data_reconstruct import *\n",
    "from data_reconstruct.backend import *\n",
    "from data_reconstruct.examples import *\n",
    "from data_reconstruct.utilities import *"
   ]
  },
  {
   "cell_type": "code",
   "execution_count": 3,
   "id": "b2927419-51a9-442a-bb80-c8211884de98",
   "metadata": {},
   "outputs": [],
   "source": [
    "random_state = 42\n",
    "np.random.seed(random_state)"
   ]
  },
  {
   "cell_type": "markdown",
   "id": "b693c54a-e6bd-47a1-8531-7383212bb11e",
   "metadata": {},
   "source": [
    "# Load Data"
   ]
  },
  {
   "cell_type": "code",
   "execution_count": 4,
   "id": "05e10529-43bc-4e92-9335-c3f86c7ce091",
   "metadata": {},
   "outputs": [],
   "source": [
    "# Read\n",
    "mod1 = pd.read_csv('data/decennial_2020_nov8GAN.csv')[1:]\n",
    "mod2 = pd.read_csv('data/public_150k_plus_210630.csv')\n",
    "mod1_tagged = process_decennial(mod1)\n",
    "mod2_tagged = process_ppp(mod2)\n",
    "mod1, mod1_cols, mod1_tags_cols = mod1_tagged\n",
    "mod2, mod2_cols, mod2_tags_cols = mod2_tagged\n",
    "\n",
    "# Merge\n",
    "mod1, mod2, annotations = merge_data(mod1_tagged, mod2_tagged, agg_by_tag=True)\n",
    "\n",
    "# Sample\n",
    "num_samples = min(mod1.shape[0], 2000)\n",
    "mod1_sample = mod1.sample(num_samples, random_state=random_state)\n",
    "mod2_sample = mod2.sample(num_samples, random_state=random_state)\n",
    "annotations_sample = annotations.sample(num_samples, random_state=random_state);"
   ]
  },
  {
   "cell_type": "markdown",
   "id": "bea4985e-f9d2-4379-837c-b5dbe4128d32",
   "metadata": {},
   "source": [
    "# Generate Merged Anonymous Records"
   ]
  },
  {
   "cell_type": "code",
   "execution_count": 5,
   "id": "95e6b578-4ece-4b90-9f02-8c68c1b2d5ea",
   "metadata": {
    "tags": []
   },
   "outputs": [
    {
     "name": "stdout",
     "output_type": "stream",
     "text": [
      "use random seed: 666\n",
      "Shape of Raw data\n",
      "Dataset 0: (729, 6)\n",
      "Dataset 1: (729, 4)\n",
      "---------------------------------\n",
      "Find correspondence between Dataset 1 and Dataset 2\n",
      "use device: cpu\n",
      "epoch:[200/2000] err:0.4023 alpha:1.1304\n",
      "epoch:[400/2000] err:0.1626 alpha:0.4578\n",
      "epoch:[600/2000] err:0.1996 alpha:0.5643\n",
      "epoch:[800/2000] err:0.2308 alpha:0.6561\n",
      "epoch:[1000/2000] err:0.2571 alpha:0.7368\n",
      "epoch:[1200/2000] err:0.2789 alpha:0.8077\n",
      "epoch:[1400/2000] err:0.2965 alpha:0.8698\n",
      "epoch:[1600/2000] err:0.3103 alpha:0.9243\n",
      "epoch:[1800/2000] err:0.3205 alpha:0.9726\n",
      "epoch:[2000/2000] err:0.3275 alpha:1.0156\n",
      "Finished Matching!\n",
      "---------------------------------\n",
      "Begin finding the embedded space\n",
      "epoch:[100/200]: loss:3.631184, align_loss:0.415126\n",
      "epoch:[200/200]: loss:3.361049, align_loss:0.404889\n",
      "Done\n",
      "---------------------------------\n",
      "unionCom Done!\n",
      "time: 45.83662247657776 seconds\n"
     ]
    }
   ],
   "source": [
    "anonymized_data = anonymize(\n",
    "    mod1_sample.to_numpy(),\n",
    "    mod2_sample.to_numpy(),\n",
    "    embedding_dim=5,\n",
    "    embedding_kwargs={\n",
    "        'project_mode': 'tsne',\n",
    "        'epoch_pd': 2000,\n",
    "        'log_pd': 200,\n",
    "        'epoch_DNN': 200,\n",
    "        'log_DNN': 100,\n",
    "    },\n",
    ")"
   ]
  },
  {
   "cell_type": "markdown",
   "id": "8d2e8ede-26b5-43a0-a45e-c9ef489f3fe5",
   "metadata": {},
   "source": [
    "# Preview Results"
   ]
  },
  {
   "cell_type": "code",
   "execution_count": 6,
   "id": "f629eeca-d544-426d-a623-1ed69fde3b8c",
   "metadata": {},
   "outputs": [
    {
     "data": {
      "text/html": [
       "<div>\n",
       "<style scoped>\n",
       "    .dataframe tbody tr th:only-of-type {\n",
       "        vertical-align: middle;\n",
       "    }\n",
       "\n",
       "    .dataframe tbody tr th {\n",
       "        vertical-align: top;\n",
       "    }\n",
       "\n",
       "    .dataframe thead th {\n",
       "        text-align: right;\n",
       "    }\n",
       "</style>\n",
       "<table border=\"1\" class=\"dataframe\">\n",
       "  <thead>\n",
       "    <tr style=\"text-align: right;\">\n",
       "      <th></th>\n",
       "      <th>0</th>\n",
       "      <th>1</th>\n",
       "      <th>2</th>\n",
       "      <th>3</th>\n",
       "      <th>4</th>\n",
       "    </tr>\n",
       "    <tr>\n",
       "      <th>ProjectCountyName</th>\n",
       "      <th></th>\n",
       "      <th></th>\n",
       "      <th></th>\n",
       "      <th></th>\n",
       "      <th></th>\n",
       "    </tr>\n",
       "  </thead>\n",
       "  <tbody>\n",
       "    <tr>\n",
       "      <th>NESHOBA</th>\n",
       "      <td>-1.383433</td>\n",
       "      <td>1.708681</td>\n",
       "      <td>-2.910186</td>\n",
       "      <td>-3.900701</td>\n",
       "      <td>-4.391394</td>\n",
       "    </tr>\n",
       "    <tr>\n",
       "      <th>CLEVELAND</th>\n",
       "      <td>3.724893</td>\n",
       "      <td>2.156146</td>\n",
       "      <td>-3.766773</td>\n",
       "      <td>0.833089</td>\n",
       "      <td>-2.208158</td>\n",
       "    </tr>\n",
       "    <tr>\n",
       "      <th>HUMBOLDT</th>\n",
       "      <td>2.144473</td>\n",
       "      <td>1.655481</td>\n",
       "      <td>-2.893021</td>\n",
       "      <td>0.253345</td>\n",
       "      <td>-1.918855</td>\n",
       "    </tr>\n",
       "    <tr>\n",
       "      <th>LAKE</th>\n",
       "      <td>2.238041</td>\n",
       "      <td>1.967923</td>\n",
       "      <td>-3.354432</td>\n",
       "      <td>-0.230235</td>\n",
       "      <td>-2.541021</td>\n",
       "    </tr>\n",
       "    <tr>\n",
       "      <th>PENOBSCOT</th>\n",
       "      <td>-0.596344</td>\n",
       "      <td>-0.752254</td>\n",
       "      <td>0.017594</td>\n",
       "      <td>-0.577819</td>\n",
       "      <td>-0.140831</td>\n",
       "    </tr>\n",
       "    <tr>\n",
       "      <th>...</th>\n",
       "      <td>...</td>\n",
       "      <td>...</td>\n",
       "      <td>...</td>\n",
       "      <td>...</td>\n",
       "      <td>...</td>\n",
       "    </tr>\n",
       "    <tr>\n",
       "      <th>BRAZOS</th>\n",
       "      <td>-0.963476</td>\n",
       "      <td>1.975549</td>\n",
       "      <td>-3.236617</td>\n",
       "      <td>-3.714817</td>\n",
       "      <td>-4.525455</td>\n",
       "    </tr>\n",
       "    <tr>\n",
       "      <th>CASCADE</th>\n",
       "      <td>1.451528</td>\n",
       "      <td>0.819079</td>\n",
       "      <td>-1.699406</td>\n",
       "      <td>0.669863</td>\n",
       "      <td>-0.729364</td>\n",
       "    </tr>\n",
       "    <tr>\n",
       "      <th>GUADALUPE</th>\n",
       "      <td>-0.970148</td>\n",
       "      <td>1.904166</td>\n",
       "      <td>-2.982475</td>\n",
       "      <td>-3.546943</td>\n",
       "      <td>-4.138350</td>\n",
       "    </tr>\n",
       "    <tr>\n",
       "      <th>MIDLAND</th>\n",
       "      <td>-0.963972</td>\n",
       "      <td>1.753258</td>\n",
       "      <td>-2.856935</td>\n",
       "      <td>-3.387575</td>\n",
       "      <td>-3.986349</td>\n",
       "    </tr>\n",
       "    <tr>\n",
       "      <th>CAROLINE</th>\n",
       "      <td>0.223418</td>\n",
       "      <td>2.261513</td>\n",
       "      <td>-3.532600</td>\n",
       "      <td>-2.615905</td>\n",
       "      <td>-4.062747</td>\n",
       "    </tr>\n",
       "  </tbody>\n",
       "</table>\n",
       "<p>729 rows × 5 columns</p>\n",
       "</div>"
      ],
      "text/plain": [
       "                          0         1         2         3         4\n",
       "ProjectCountyName                                                  \n",
       "NESHOBA           -1.383433  1.708681 -2.910186 -3.900701 -4.391394\n",
       "CLEVELAND          3.724893  2.156146 -3.766773  0.833089 -2.208158\n",
       "HUMBOLDT           2.144473  1.655481 -2.893021  0.253345 -1.918855\n",
       "LAKE               2.238041  1.967923 -3.354432 -0.230235 -2.541021\n",
       "PENOBSCOT         -0.596344 -0.752254  0.017594 -0.577819 -0.140831\n",
       "...                     ...       ...       ...       ...       ...\n",
       "BRAZOS            -0.963476  1.975549 -3.236617 -3.714817 -4.525455\n",
       "CASCADE            1.451528  0.819079 -1.699406  0.669863 -0.729364\n",
       "GUADALUPE         -0.970148  1.904166 -2.982475 -3.546943 -4.138350\n",
       "MIDLAND           -0.963972  1.753258 -2.856935 -3.387575 -3.986349\n",
       "CAROLINE           0.223418  2.261513 -3.532600 -2.615905 -4.062747\n",
       "\n",
       "[729 rows x 5 columns]"
      ]
     },
     "execution_count": 6,
     "metadata": {},
     "output_type": "execute_result"
    }
   ],
   "source": [
    "pd.DataFrame(anonymized_data[0], index=annotations_sample.iloc[:, 0])"
   ]
  },
  {
   "cell_type": "markdown",
   "id": "878d4f96-bba0-426c-8604-1c0c112846fa",
   "metadata": {},
   "source": [
    "# Usability"
   ]
  },
  {
   "cell_type": "markdown",
   "id": "5a5e3f4d-93ce-40a7-8fc8-b2c4ef458a8d",
   "metadata": {},
   "source": [
    "## Arbitrary Statistic Prediction"
   ]
  },
  {
   "cell_type": "code",
   "execution_count": 7,
   "id": "cca2e98a-7b73-4726-8bb6-67b69fd79380",
   "metadata": {},
   "outputs": [],
   "source": [
    "target = np.sqrt(mod1_sample['totalpop_other'] * mod2_sample['HEALTH_CARE_PROCEED']).to_numpy().reshape((-1, 1))\n",
    "source = anonymized_data[0]"
   ]
  },
  {
   "cell_type": "code",
   "execution_count": 14,
   "id": "7702aeb6-ab35-48b7-a5d0-25a4d71a1a0e",
   "metadata": {},
   "outputs": [
    {
     "name": "stdout",
     "output_type": "stream",
     "text": [
      "Epoch:  10    Loss:  0.00781\n",
      "Epoch:  20    Loss:  0.00713\n",
      "Epoch:  30    Loss:  0.00662\n",
      "Epoch:  40    Loss:  0.00630\n",
      "Epoch:  50    Loss:  0.00609\n",
      "Epoch:  60    Loss:  0.00601\n",
      "Epoch:  70    Loss:  0.00598\n",
      "Epoch:  80    Loss:  0.00595\n",
      "Epoch:  90    Loss:  0.00592\n",
      "Epoch: 100    Loss:  0.00589\n"
     ]
    }
   ],
   "source": [
    "from data_reconstruct.backend import create_dataloader, train_model\n",
    "from data_reconstruct.model_classes import Model\n",
    "\n",
    "split_idx = int(.8 * target.shape[0])\n",
    "training_loader = create_dataloader(source[:split_idx], target[:split_idx])\n",
    "model = model_classes.Model(source.shape[1], 1, hidden_dim=20)\n",
    "train_model(model, training_loader)\n",
    "prediction = model(torch.Tensor(source)).detach().numpy()"
   ]
  },
  {
   "cell_type": "code",
   "execution_count": 15,
   "id": "7aa701cd-b578-4628-805d-e664d2483809",
   "metadata": {},
   "outputs": [
    {
     "data": {
      "image/png": "[encoded data removed]",
      "text/plain": [
       "<Figure size 432x288 with 1 Axes>"
      ]
     },
     "metadata": {
      "needs_background": "light"
     },
     "output_type": "display_data"
    }
   ],
   "source": [
    "plot_example_results(target, prediction, split_idx=split_idx)"
   ]
  }
 ],
 "metadata": {
  "kernelspec": {
   "display_name": "Python 3 (ipykernel)",
   "language": "python",
   "name": "python3"
  },
  "language_info": {
   "codemirror_mode": {
    "name": "ipython",
    "version": 3
   },
   "file_extension": ".py",
   "mimetype": "text/x-python",
   "name": "python",
   "nbconvert_exporter": "python",
   "pygments_lexer": "ipython3",
   "version": "3.9.5"
  }
 },
 "nbformat": 4,
 "nbformat_minor": 5
}
