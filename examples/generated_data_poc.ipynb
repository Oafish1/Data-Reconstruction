{
 "cells": [
  {
   "cell_type": "code",
   "execution_count": 1,
   "id": "cfae283a-68a4-4673-9c3f-d40d3be7f3fd",
   "metadata": {},
   "outputs": [],
   "source": [
    "%load_ext autoreload\n",
    "%autoreload 2"
   ]
  },
  {
   "cell_type": "code",
   "execution_count": 2,
   "id": "df9443d7-bb8d-4b06-9ba0-c39838ff7274",
   "metadata": {},
   "outputs": [],
   "source": [
    "import matplotlib.pyplot as plt\n",
    "\n",
    "from data_reconstruct import *\n",
    "from data_reconstruct.backend import *\n",
    "from data_reconstruct.utilities import *"
   ]
  },
  {
   "cell_type": "code",
   "execution_count": 3,
   "id": "b2927419-51a9-442a-bb80-c8211884de98",
   "metadata": {},
   "outputs": [],
   "source": [
    "np.random.seed(42)"
   ]
  },
  {
   "cell_type": "markdown",
   "id": "b693c54a-e6bd-47a1-8531-7383212bb11e",
   "metadata": {},
   "source": [
    "# Generate Data"
   ]
  },
  {
   "cell_type": "code",
   "execution_count": 4,
   "id": "8c326563-f9a3-4e01-bdee-7179f03fff7b",
   "metadata": {},
   "outputs": [
    {
     "name": "stdout",
     "output_type": "stream",
     "text": [
      "[[0.37454012 0.95071431 0.73199394 0.59865848 0.15601864]\n",
      " [0.15599452 0.05808361 0.86617615 0.60111501 0.70807258]\n",
      " [0.02058449 0.96990985 0.83244264 0.21233911 0.18182497]\n",
      " [0.18340451 0.30424224 0.52475643 0.43194502 0.29122914]\n",
      " [0.61185289 0.13949386 0.29214465 0.36636184 0.45606998]]\n",
      "\n",
      "[[0.69816171 0.53609637 0.30952762]\n",
      " [0.81379502 0.68473117 0.16261694]\n",
      " [0.91092718 0.82253724 0.94979991]\n",
      " [0.72571951 0.6134152  0.41824304]\n",
      " [0.93272848 0.86606389 0.04521867]]\n",
      "\n",
      "[[2.28195049 1.95621392 1.22322024]\n",
      " [2.04188131 1.81783107 1.16385429]\n",
      " [1.88566571 1.64760193 1.05178043]\n",
      " [1.43876037 1.25546303 0.79848431]\n",
      " [1.49807958 1.28354543 0.66339956]]\n"
     ]
    }
   ],
   "source": [
    "mod1, relationship, mod2, mod2_training, mod2_validation, split_idx = generate_data()\n",
    "print(mod1[:5], relationship, mod2[:5], sep='\\n\\n')"
   ]
  },
  {
   "cell_type": "markdown",
   "id": "bea4985e-f9d2-4379-837c-b5dbe4128d32",
   "metadata": {},
   "source": [
    "# Realistic Implementation"
   ]
  },
  {
   "cell_type": "markdown",
   "id": "9be5f054-f08f-4512-8005-a4767d2e0003",
   "metadata": {},
   "source": [
    "In practice, the below code is all that needs to be run to use the pipeline"
   ]
  },
  {
   "cell_type": "code",
   "execution_count": 5,
   "id": "95e6b578-4ece-4b90-9f02-8c68c1b2d5ea",
   "metadata": {
    "scrolled": true,
    "tags": []
   },
   "outputs": [
    {
     "name": "stdout",
     "output_type": "stream",
     "text": [
      "use random seed: 666\n",
      "Shape of Raw data\n",
      "Dataset 0: (100, 5)\n",
      "Dataset 1: (80, 3)\n",
      "---------------------------------\n",
      "Find correspondence between Dataset 1 and Dataset 2\n",
      "use device: cpu\n",
      "epoch:[100/2000] err:0.0897 alpha:0.1564\n",
      "epoch:[200/2000] err:0.0940 alpha:0.1640\n",
      "epoch:[300/2000] err:0.0942 alpha:0.1645\n",
      "epoch:[400/2000] err:0.0944 alpha:0.1650\n",
      "epoch:[500/2000] err:0.0945 alpha:0.1654\n",
      "epoch:[600/2000] err:0.0946 alpha:0.1658\n",
      "epoch:[700/2000] err:0.0947 alpha:0.1662\n",
      "epoch:[800/2000] err:0.0948 alpha:0.1665\n",
      "epoch:[900/2000] err:0.0948 alpha:0.1669\n",
      "epoch:[1000/2000] err:0.0948 alpha:0.1671\n",
      "epoch:[1100/2000] err:0.0948 alpha:0.1674\n",
      "epoch:[1200/2000] err:0.0948 alpha:0.1677\n",
      "epoch:[1300/2000] err:0.0947 alpha:0.1679\n",
      "epoch:[1400/2000] err:0.0947 alpha:0.1681\n",
      "epoch:[1500/2000] err:0.0946 alpha:0.1683\n",
      "epoch:[1600/2000] err:0.0945 alpha:0.1685\n",
      "epoch:[1700/2000] err:0.0944 alpha:0.1687\n",
      "epoch:[1800/2000] err:0.0943 alpha:0.1689\n",
      "epoch:[1900/2000] err:0.0941 alpha:0.1690\n",
      "epoch:[2000/2000] err:0.0940 alpha:0.1692\n",
      "Finished Matching!\n",
      "---------------------------------\n",
      "Begin finding the embedded space\n",
      "epoch:[10/100]: loss:1.764326, align_loss:0.174172\n",
      "epoch:[20/100]: loss:1.535854, align_loss:0.185847\n",
      "epoch:[30/100]: loss:1.493008, align_loss:0.211256\n",
      "epoch:[40/100]: loss:1.504325, align_loss:0.205554\n",
      "epoch:[50/100]: loss:1.390845, align_loss:0.218884\n",
      "epoch:[60/100]: loss:1.376706, align_loss:0.220402\n",
      "epoch:[70/100]: loss:1.412089, align_loss:0.214966\n",
      "epoch:[80/100]: loss:1.351793, align_loss:0.206293\n",
      "epoch:[90/100]: loss:1.423210, align_loss:0.210508\n",
      "epoch:[100/100]: loss:1.292893, align_loss:0.201528\n",
      "Done\n",
      "---------------------------------\n",
      "NMAcom Done!\n",
      "time: 0.911583423614502 seconds\n",
      "---------------------------------\n",
      "Mapping to last dataset...\n",
      "Epoch:  10    Loss:  0.11790\n",
      "Epoch:  20    Loss:  0.10872\n",
      "Epoch:  30    Loss:  0.10488\n",
      "Epoch:  40    Loss:  0.10183\n",
      "Epoch:  50    Loss:  0.09943\n",
      "Epoch:  60    Loss:  0.09758\n",
      "Epoch:  70    Loss:  0.09612\n",
      "Epoch:  80    Loss:  0.09497\n",
      "Epoch:  90    Loss:  0.09404\n",
      "Epoch: 100    Loss:  0.09328\n",
      "Validation Loss: 0.09591\n"
     ]
    }
   ],
   "source": [
    "pipeline_output = run_pipeline(mod1, mod2, train_idx=split_idx)"
   ]
  },
  {
   "cell_type": "markdown",
   "id": "eb38946d-c557-482a-ba5e-7fc47a6e6392",
   "metadata": {},
   "source": [
    "# Verbose Implementation"
   ]
  },
  {
   "cell_type": "markdown",
   "id": "5d223aa2-72b6-470c-8688-46dd9826852f",
   "metadata": {},
   "source": [
    "Since the above code doesn't explain much, the code below can be examined for a better view of the pipeline"
   ]
  },
  {
   "cell_type": "markdown",
   "id": "3a79b455-85a8-4a53-996b-5b1d99dd76c6",
   "metadata": {},
   "source": [
    "## Create Joint Embedding"
   ]
  },
  {
   "cell_type": "code",
   "execution_count": 6,
   "id": "2bbcda44-b7e6-4772-a216-675e2d10214d",
   "metadata": {
    "scrolled": true,
    "tags": []
   },
   "outputs": [
    {
     "name": "stdout",
     "output_type": "stream",
     "text": [
      "use random seed: 666\n",
      "Shape of Raw data\n",
      "Dataset 0: (100, 5)\n",
      "Dataset 1: (80, 3)\n",
      "---------------------------------\n",
      "Find correspondence between Dataset 1 and Dataset 2\n",
      "use device: cpu\n",
      "epoch:[100/2000] err:0.0897 alpha:0.1564\n",
      "epoch:[200/2000] err:0.0940 alpha:0.1640\n",
      "epoch:[300/2000] err:0.0942 alpha:0.1645\n",
      "epoch:[400/2000] err:0.0944 alpha:0.1650\n",
      "epoch:[500/2000] err:0.0945 alpha:0.1654\n",
      "epoch:[600/2000] err:0.0946 alpha:0.1658\n",
      "epoch:[700/2000] err:0.0947 alpha:0.1662\n",
      "epoch:[800/2000] err:0.0948 alpha:0.1665\n",
      "epoch:[900/2000] err:0.0948 alpha:0.1669\n",
      "epoch:[1000/2000] err:0.0948 alpha:0.1671\n",
      "epoch:[1100/2000] err:0.0948 alpha:0.1674\n",
      "epoch:[1200/2000] err:0.0948 alpha:0.1677\n",
      "epoch:[1300/2000] err:0.0947 alpha:0.1679\n",
      "epoch:[1400/2000] err:0.0947 alpha:0.1681\n",
      "epoch:[1500/2000] err:0.0946 alpha:0.1683\n",
      "epoch:[1600/2000] err:0.0945 alpha:0.1685\n",
      "epoch:[1700/2000] err:0.0944 alpha:0.1687\n",
      "epoch:[1800/2000] err:0.0943 alpha:0.1689\n",
      "epoch:[1900/2000] err:0.0941 alpha:0.1690\n",
      "epoch:[2000/2000] err:0.0940 alpha:0.1692\n",
      "Finished Matching!\n",
      "---------------------------------\n",
      "Begin finding the embedded space\n",
      "epoch:[10/100]: loss:1.764326, align_loss:0.174172\n",
      "epoch:[20/100]: loss:1.535854, align_loss:0.185847\n",
      "epoch:[30/100]: loss:1.493008, align_loss:0.211256\n",
      "epoch:[40/100]: loss:1.504325, align_loss:0.205554\n",
      "epoch:[50/100]: loss:1.390845, align_loss:0.218884\n",
      "epoch:[60/100]: loss:1.376706, align_loss:0.220402\n",
      "epoch:[70/100]: loss:1.412089, align_loss:0.214966\n",
      "epoch:[80/100]: loss:1.351793, align_loss:0.206293\n",
      "epoch:[90/100]: loss:1.423210, align_loss:0.210508\n",
      "epoch:[100/100]: loss:1.292893, align_loss:0.201528\n",
      "Done\n",
      "---------------------------------\n",
      "NMAcom Done!\n",
      "time: 1.4842028617858887 seconds\n"
     ]
    }
   ],
   "source": [
    "embedding_dim = 10\n",
    "joint_embedding = joint_embed(mod1, mod2_training, output_dim=embedding_dim, project_mode='tsne')"
   ]
  },
  {
   "cell_type": "code",
   "execution_count": 7,
   "id": "2d4a13ad-86ec-48f6-a10f-2cfac686630f",
   "metadata": {},
   "outputs": [
    {
     "data": {
      "image/png": "[encoded data removed]",
      "text/plain": [
       "<Figure size 864x432 with 2 Axes>"
      ]
     },
     "metadata": {
      "needs_background": "light"
     },
     "output_type": "display_data"
    }
   ],
   "source": [
    "plt.subplots(figsize=(12, 6))\n",
    "plot_example_embedding(joint_embedding, split_idx, axis_bounds=[-.7, 1.25, -.5, 1.3])"
   ]
  },
  {
   "cell_type": "markdown",
   "id": "d7bfdd4b-b08f-499c-a84a-567ec5e245a8",
   "metadata": {},
   "source": [
    "## Predict Feature in Second Modality"
   ]
  },
  {
   "cell_type": "code",
   "execution_count": 8,
   "id": "90906560-81f7-475d-805f-071c1fae9aeb",
   "metadata": {},
   "outputs": [
    {
     "name": "stdout",
     "output_type": "stream",
     "text": [
      "Epoch:  10    Loss:  0.11790\n",
      "Epoch:  20    Loss:  0.10872\n",
      "Epoch:  30    Loss:  0.10488\n",
      "Epoch:  40    Loss:  0.10183\n",
      "Epoch:  50    Loss:  0.09943\n",
      "Epoch:  60    Loss:  0.09758\n",
      "Epoch:  70    Loss:  0.09612\n",
      "Epoch:  80    Loss:  0.09497\n",
      "Epoch:  90    Loss:  0.09404\n",
      "Epoch: 100    Loss:  0.09328\n"
     ]
    }
   ],
   "source": [
    "output_dim = 1\n",
    "training_loader = create_dataloader(joint_embedding[0][:split_idx], mod2_training[:, :output_dim])\n",
    "validation_loader = create_dataloader(joint_embedding[0][split_idx:], mod2_validation[:, :output_dim])\n",
    "model = Model(embedding_dim, output_dim)\n",
    "train_model(model, training_loader)"
   ]
  },
  {
   "cell_type": "markdown",
   "id": "8d2e8ede-26b5-43a0-a45e-c9ef489f3fe5",
   "metadata": {},
   "source": [
    "# Evaluate Results"
   ]
  },
  {
   "cell_type": "code",
   "execution_count": 9,
   "id": "ecd89860-7973-4b53-8841-5392fcd24d74",
   "metadata": {},
   "outputs": [
    {
     "name": "stdout",
     "output_type": "stream",
     "text": [
      "Validation Loss: 0.09591\n"
     ]
    }
   ],
   "source": [
    "run_validation(model, validation_loader)"
   ]
  },
  {
   "cell_type": "code",
   "execution_count": 10,
   "id": "f629eeca-d544-426d-a623-1ed69fde3b8c",
   "metadata": {},
   "outputs": [
    {
     "data": {
      "image/png": "[encoded data removed]",
      "text/plain": [
       "<Figure size 432x288 with 1 Axes>"
      ]
     },
     "metadata": {
      "needs_background": "light"
     },
     "output_type": "display_data"
    }
   ],
   "source": [
    "labels = mod2[:, :1]\n",
    "logits = model(torch.Tensor(joint_embedding[0])).detach().numpy()\n",
    "plot_example_results(labels, logits, split_idx)"
   ]
  }
 ],
 "metadata": {
  "kernelspec": {
   "display_name": "Python 3 (ipykernel)",
   "language": "python",
   "name": "python3"
  },
  "language_info": {
   "codemirror_mode": {
    "name": "ipython",
    "version": 3
   },
   "file_extension": ".py",
   "mimetype": "text/x-python",
   "name": "python",
   "nbconvert_exporter": "python",
   "pygments_lexer": "ipython3",
   "version": "3.9.5"
  }
 },
 "nbformat": 4,
 "nbformat_minor": 5
}
